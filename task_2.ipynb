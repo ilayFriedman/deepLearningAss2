{
  "nbformat": 4,
  "nbformat_minor": 0,
  "metadata": {
    "colab": {
      "name": "Untitled",
      "provenance": [],
      "collapsed_sections": [],
      "include_colab_link": true
    },
    "kernelspec": {
      "name": "python3",
      "display_name": "Python 3"
    }
  },
  "cells": [
    {
      "cell_type": "markdown",
      "metadata": {
        "id": "view-in-github",
        "colab_type": "text"
      },
      "source": [
        "<a href=\"https://colab.research.google.com/github/ilayFriedman/deepLearningAss2/blob/master/task_2.ipynb\" target=\"_parent\"><img src=\"https://colab.research.google.com/assets/colab-badge.svg\" alt=\"Open In Colab\"/></a>"
      ]
    },
    {
      "cell_type": "code",
      "metadata": {
        "id": "DDO_LylQ-M0d",
        "colab_type": "code",
        "outputId": "4e2263e3-3209-4f66-83fa-cc14cf18d616",
        "colab": {
          "base_uri": "https://localhost:8080/",
          "height": 70
        }
      },
      "source": [
        "import pandas as pd\n",
        "import numpy as np\n",
        "import seaborn as sns\n",
        "import matplotlib.pyplot as plt\n",
        "import math\n",
        "\n",
        "from keras.utils import to_categorical\n",
        "from keras.layers import Input, Embedding, dot, add, Flatten, concatenate, Dropout, Dense,BatchNormalization\n",
        "from keras.regularizers import l2\n",
        "from keras.models import Model,Sequential\n",
        "from keras.engine.saving import model_from_json\n",
        "\n",
        "\n",
        "from keras.optimizers import Adam\n",
        "from keras.layers import Flatten,Dense,LSTM,TimeDistributed,Input, TimeDistributed\n",
        "from sklearn.metrics import confusion_matrix,accuracy_score,log_loss\n",
        "import seaborn as sns\n"
      ],
      "execution_count": 2,
      "outputs": [
        {
          "output_type": "stream",
          "text": [
            "/usr/local/lib/python3.6/dist-packages/statsmodels/tools/_testing.py:19: FutureWarning: pandas.util.testing is deprecated. Use the functions in the public API at pandas.testing instead.\n",
            "  import pandas.util.testing as tm\n",
            "Using TensorFlow backend.\n"
          ],
          "name": "stderr"
        }
      ]
    },
    {
      "cell_type": "markdown",
      "metadata": {
        "id": "GLyweoiCRCvS",
        "colab_type": "text"
      },
      "source": [
        "Sets consts:"
      ]
    },
    {
      "cell_type": "code",
      "metadata": {
        "id": "WZ8vwjNkd_yG",
        "colab_type": "code",
        "colab": {
          "base_uri": "https://localhost:8080/",
          "height": 125
        },
        "outputId": "70fd4a50-fcb2-4d27-afe9-fa086e00a1f9"
      },
      "source": [
        "from google.colab import drive\n",
        "drive.mount('/content/drive')"
      ],
      "execution_count": 5,
      "outputs": [
        {
          "output_type": "stream",
          "text": [
            "Go to this URL in a browser: https://accounts.google.com/o/oauth2/auth?client_id=947318989803-6bn6qk8qdgf4n4g3pfee6491hc0brc4i.apps.googleusercontent.com&redirect_uri=urn%3aietf%3awg%3aoauth%3a2.0%3aoob&response_type=code&scope=email%20https%3a%2f%2fwww.googleapis.com%2fauth%2fdocs.test%20https%3a%2f%2fwww.googleapis.com%2fauth%2fdrive%20https%3a%2f%2fwww.googleapis.com%2fauth%2fdrive.photos.readonly%20https%3a%2f%2fwww.googleapis.com%2fauth%2fpeopleapi.readonly\n",
            "\n",
            "Enter your authorization code:\n",
            "··········\n",
            "Mounted at /content/drive\n"
          ],
          "name": "stdout"
        }
      ]
    },
    {
      "cell_type": "code",
      "metadata": {
        "id": "xPmT-g-dD4XY",
        "colab_type": "code",
        "colab": {}
      },
      "source": [
        "IDs = [1,2,3,4,5,6,7,8,9]\n",
        "train_ids = [1,2,3,4,5,6,9]\n",
        "test_ids = [7,8]\n",
        "activityIDdict = {0: 'transient',\n",
        "              1: 'lying',\n",
        "              2: 'sitting',\n",
        "              3: 'standing',\n",
        "              4: 'walking',\n",
        "              5: 'running',\n",
        "              6: 'cycling',\n",
        "              7: 'Nordic_walking',\n",
        "              9: 'watching_TV',\n",
        "              10: 'computer_work',\n",
        "              11: 'car driving',\n",
        "              12: 'ascending_stairs',\n",
        "              13: 'descending_stairs',\n",
        "              16: 'vacuum_cleaning',\n",
        "              17: 'ironing',\n",
        "              18: 'folding_laundry',\n",
        "              19: 'house_cleaning',\n",
        "              20: 'playing_soccer',\n",
        "              24: 'rope_jumping' }\n",
        "\n",
        "colNames = [\"timestamp\", \"activityID\",\"heartrate\"]\n",
        "\n",
        "IMUhand = ['handTemperature',\n",
        "           'handAcc16_1', 'handAcc16_2', 'handAcc16_3',\n",
        "           'handAcc6_1', 'handAcc6_2', 'handAcc6_3',\n",
        "           'handGyro1', 'handGyro2', 'handGyro3',\n",
        "           'handMagne1', 'handMagne2', 'handMagne3',\n",
        "           'handOrientation1', 'handOrientation2', 'handOrientation3', 'handOrientation4']\n",
        "\n",
        "IMUchest = ['chestTemperature',\n",
        "           'chestAcc16_1', 'chestAcc16_2', 'chestAcc16_3',\n",
        "           'chestAcc6_1', 'chestAcc6_2', 'chestAcc6_3',\n",
        "           'chestGyro1', 'chestGyro2', 'chestGyro3',\n",
        "           'chestMagne1', 'chestMagne2', 'chestMagne3',\n",
        "           'chestOrientation1', 'chestOrientation2', 'chestOrientation3', 'chestOrientation4']\n",
        "\n",
        "IMUankle = ['ankleTemperature',\n",
        "           'ankleAcc16_1', 'ankleAcc16_2', 'ankleAcc16_3',\n",
        "           'ankleAcc6_1', 'ankleAcc6_2', 'ankleAcc6_3',\n",
        "           'ankleGyro1', 'ankleGyro2', 'ankleGyro3',\n",
        "           'ankleMagne1', 'ankleMagne2', 'ankleMagne3',\n",
        "           'ankleOrientation1', 'ankleOrientation2', 'ankleOrientation3', 'ankleOrientation4']\n",
        "columns = colNames + IMUhand + IMUchest + IMUankle\n",
        "drive_path = '/content/drive/My Drive/deep_learning_ass2/PAMAP2_Dataset/Protocol'"
      ],
      "execution_count": 0,
      "outputs": []
    },
    {
      "cell_type": "markdown",
      "metadata": {
        "id": "qihaZiSPRL0c",
        "colab_type": "text"
      },
      "source": [
        "data loading functions"
      ]
    },
    {
      "cell_type": "code",
      "metadata": {
        "id": "wqOZ836pbz0Y",
        "colab_type": "code",
        "colab": {}
      },
      "source": [
        "def plot_hisotry(history):\n",
        "  plt.plot(history.history['accuracy'])\n",
        "  plt.plot(history.history['val_accuracy'])\n",
        "  plt.title('Model accuracy')\n",
        "  plt.ylabel('Accuracy')\n",
        "  plt.xlabel('Epoch')\n",
        "  plt.legend(['Train', 'validation'], loc='upper left')\n",
        "  plt.show()\n",
        "  plt.plot(history.history['loss'])\n",
        "  plt.plot(history.history['val_loss'])\n",
        "  plt.title('Model loss')\n",
        "  plt.ylabel('Loss')\n",
        "  plt.xlabel('Epoch')\n",
        "  plt.legend(['Train', 'validation'], loc='upper left')\n",
        "  plt.show()\n",
        "\n",
        "def confusion_matrix_predict(model, X_test, y_test):\n",
        "    preds = model.predict(X_test)\n",
        "    # print (predicts.shape)\n",
        "    # print(y_test.shape)\n",
        "    predicts = np.argmax(preds, axis=1) #return the predicted category in each sample in test set\n",
        "    y_test = np.argmax(y_test, axis=1)\n",
        "    print(confusion_matrix(y_test,predicts))\n",
        "    print('model accuracy on test set is: {}%'.format(accuracy_score(y_test,predicts)*100))\n",
        "    sns.heatmap(confusion_matrix(y_test,predicts),cmap='Greens',annot=False, fmt='d')\n",
        "    plt.xlabel('Prediction')\n",
        "    plt.ylabel('True label')\n",
        "    plt.title('Classification results on test set')\n",
        "    print()\n",
        "    counter = 0\n",
        "    for i in range(10000):\n",
        "      if (predicts[i] != y_test[i]):\n",
        "          print (\"x_data\")\n",
        "          print (X_test[i])\n",
        "          print (\"y_data\")\n",
        "          print (y_test[i])\n",
        "          print(\"predict data\")\n",
        "          print (predicts[i])\n",
        "          counter = counter+1\n",
        "        \n",
        "      if(counter==5):\n",
        "          break\n",
        "          \n",
        " \n",
        "def save_model(model, model_name):\n",
        "    model_json = model.to_json()\n",
        "    with open(model_name + \".json\", \"w\") as json_file:\n",
        "        json_file.write(model_json)\n",
        "    model.save_weights(model_name + \".h5\")\n",
        "\n",
        "\n",
        "def load_model(model_name):\n",
        "    json_file = open(model_name + '.json', 'r')\n",
        "    loaded_model_json = json_file.read()\n",
        "    json_file.close()\n",
        "    loaded_model = model_from_json(loaded_model_json)\n",
        "    loaded_model.load_weights(model_name + \".h5\")\n",
        "    return loaded_model"
      ],
      "execution_count": 0,
      "outputs": []
    },
    {
      "cell_type": "code",
      "metadata": {
        "id": "f-7pHuT4LXPT",
        "colab_type": "code",
        "colab": {}
      },
      "source": [
        "# path_to_file = 'subject10{}.dat'\n",
        "path_to_file = drive_path+'/subject10{}.dat'\n",
        "\n",
        "def load_train_data(columns,prepare_data):\n",
        "    train_data = None\n",
        "    train_target = None\n",
        "    for i in train_ids:\n",
        "        if train_data is None:\n",
        "            train_data = pd.read_csv(path_to_file.format(i), delim_whitespace=True, header=None, names=columns)\n",
        "            df_train = pd.DataFrame(data=train_data)\n",
        "            df_train, train_target = prepare_data(df_train,'subject10{}'.format(i))\n",
        "\n",
        "        else:\n",
        "            train_data = pd.read_csv(path_to_file.format(i), delim_whitespace=True, header=None, names=columns)\n",
        "            df_load_train = pd.DataFrame(data=train_data)\n",
        "            df_load_train, train_load_target = prepare_data(df_load_train,'subject10{}'.format(i))\n",
        "            df_train = np.concatenate((df_train, df_load_train))\n",
        "            train_target = np.concatenate((train_target, train_load_target))\n",
        "\n",
        "    df_train = pd.DataFrame(data = df_train)\n",
        "   \n",
        "    df_train = df_train.rename(columns={40:\"subject\", 41:\"act\"})\n",
        "    train_target = pd.DataFrame(data = train_target)\n",
        "    train_target = train_target.rename(columns={0: \"act\", 1:\"subject\"})\n",
        "    print(\"train\")\n",
        "    print(df_train.head(5))\n",
        "    print(\"train target\")\n",
        "    print(train_target.head(5))\n",
        "    return df_train, train_target\n",
        "\n",
        "def load_val_data(columns, prepare_data):\n",
        "    val_data = pd.read_csv(path_to_file.format(7), delim_whitespace=True, header=None, names=columns)\n",
        "\n",
        "    df_val = pd.DataFrame(data=val_data)\n",
        "    df_val, val_target = prepare_data(df_val,'subject107')\n",
        "   \n",
        "    df_val = df_val.rename(columns={40:\"subject\", 41:\"act\"})\n",
        "    val_target = val_target.reset_index(drop=True)\n",
        "    df_val = df_val.reset_index(drop=True)\n",
        "    print (\"validation\")\n",
        "    print (df_val.head(5))\n",
        "    return df_val, val_target\n",
        "\n",
        "def load_test_data(columns, prepare_data):\n",
        "    \n",
        "    test_data = None\n",
        "    test_target = None\n",
        "    for i in test_ids:\n",
        "        if test_data is None:\n",
        "            test_data = pd.read_csv(path_to_file.format(i), delim_whitespace=True, header=None, names=columns)\n",
        "            df_test = pd.DataFrame(data=test_data)\n",
        "            df_test, test_target = prepare_data(df_test,'subject10{}'.format(i))\n",
        "\n",
        "        else:\n",
        "            test_data = pd.read_csv(path_to_file.format(i), delim_whitespace=True, header=None, names=columns)\n",
        "            df_load_test = pd.DataFrame(data=test_data)\n",
        "            df_load_test, test_load_target = prepare_data(df_load_test,'subject10{}'.format(i))\n",
        "            df_test = np.concatenate((df_test, df_load_test))\n",
        "            test_target = np.concatenate((test_target, test_load_target))\n",
        "\n",
        "    df_test = pd.DataFrame(data = df_test)\n",
        "   \n",
        "    df_test = df_test.rename(columns={40:\"subject\", 41:\"act\"})\n",
        "    test_target = pd.DataFrame(data = test_target)\n",
        "    test_target = test_target.rename(columns={0: \"act\", 1:\"subject\"})\n",
        "\n",
        "    print (\"test\")\n",
        "    print (df_test.head(5))\n",
        "    return df_test, test_target"
      ],
      "execution_count": 0,
      "outputs": []
    },
    {
      "cell_type": "markdown",
      "metadata": {
        "id": "cFWegTheRVCH",
        "colab_type": "text"
      },
      "source": [
        "Data Prepering:\n",
        "droping the timestamp, removing activity num 0, and seting the target column to be \"activityID\""
      ]
    },
    {
      "cell_type": "code",
      "metadata": {
        "id": "RoL2M_HaHtO3",
        "colab_type": "code",
        "colab": {}
      },
      "source": [
        "def prepare_data(df,subject_name):\n",
        "    df_copy = df.copy()\n",
        "    df_copy.drop(['timestamp'], axis=1, inplace=True)\n",
        "    df_copy = df_copy[(df_copy['activityID'] != 0)]\n",
        "    df_copy.drop([x for x in df_copy.columns if 'Ori' in x], axis=1, inplace=True)\n",
        "    df_copy.interpolate(method ='linear', limit_direction ='forward', inplace=True) \n",
        "    df_copy.dropna(inplace=True)\n",
        "    df_copy['subject'] = int(subject_name[-2:])\n",
        "    df_copy['act'] = df_copy['activityID']\n",
        "    # df_copy = df_copy.rename(columns={2: \"HR\"})\n",
        "    target = df_copy.iloc[:,0:1]\n",
        "    target['subject'] = int(subject_name[-2:])\n",
        "    df_copy.drop(['activityID'], axis=1, inplace=True)\n",
        "    # data is given every 0.01s and the sampling frequency of the HR-monitor was only approximately 9Hz\n",
        "    return df_copy,target"
      ],
      "execution_count": 0,
      "outputs": []
    },
    {
      "cell_type": "markdown",
      "metadata": {
        "id": "KMp_AicDSHfX",
        "colab_type": "text"
      },
      "source": [
        "loading the first data"
      ]
    },
    {
      "cell_type": "code",
      "metadata": {
        "id": "udNAbi--MIte",
        "colab_type": "code",
        "outputId": "6166742e-d78a-466e-cf3e-42eb3e41f444",
        "colab": {
          "base_uri": "https://localhost:8080/",
          "height": 745
        }
      },
      "source": [
        "train, train_target = load_train_data(columns, prepare_data)\n",
        "test, test_target = load_test_data(columns, prepare_data)\n",
        "print(train.shape)\n",
        "print(train_target.shape)\n",
        "print(test.shape)\n",
        "print(test_target.shape)"
      ],
      "execution_count": 8,
      "outputs": [
        {
          "output_type": "stream",
          "text": [
            "/usr/local/lib/python3.6/dist-packages/ipykernel_launcher.py:12: SettingWithCopyWarning: \n",
            "A value is trying to be set on a copy of a slice from a DataFrame.\n",
            "Try using .loc[row_indexer,col_indexer] = value instead\n",
            "\n",
            "See the caveats in the documentation: https://pandas.pydata.org/pandas-docs/stable/user_guide/indexing.html#returning-a-view-versus-a-copy\n",
            "  if sys.path[0] == '':\n"
          ],
          "name": "stderr"
        },
        {
          "output_type": "stream",
          "text": [
            "train\n",
            "       0       1        2        3  ...       38       39  subject  act\n",
            "0  100.0  30.375  2.30106  7.25857  ... -37.1225 -57.8847      1.0  1.0\n",
            "1  100.0  30.375  2.07165  7.25965  ... -36.9744 -57.7501      1.0  1.0\n",
            "2  100.0  30.375  2.41148  7.59780  ... -36.9632 -57.9957      1.0  1.0\n",
            "3  100.0  30.375  2.32815  7.63431  ... -36.1724 -59.3487      1.0  1.0\n",
            "4  100.0  30.375  2.25096  7.78598  ... -37.1744 -58.1199      1.0  1.0\n",
            "\n",
            "[5 rows x 42 columns]\n",
            "train target\n",
            "   act  subject\n",
            "0    1        1\n",
            "1    1        1\n",
            "2    1        1\n",
            "3    1        1\n",
            "4    1        1\n"
          ],
          "name": "stdout"
        },
        {
          "output_type": "stream",
          "text": [
            "/usr/local/lib/python3.6/dist-packages/ipykernel_launcher.py:12: SettingWithCopyWarning: \n",
            "A value is trying to be set on a copy of a slice from a DataFrame.\n",
            "Try using .loc[row_indexer,col_indexer] = value instead\n",
            "\n",
            "See the caveats in the documentation: https://pandas.pydata.org/pandas-docs/stable/user_guide/indexing.html#returning-a-view-versus-a-copy\n",
            "  if sys.path[0] == '':\n"
          ],
          "name": "stderr"
        },
        {
          "output_type": "stream",
          "text": [
            "test\n",
            "      0        1        2        3  ...       38       39  subject  act\n",
            "0  80.0  30.1875 -9.50909  2.71323  ... -43.1971 -1.70813      7.0  1.0\n",
            "1  80.0  30.1875 -9.54902  2.59937  ... -43.4489 -1.85010      7.0  1.0\n",
            "2  80.0  30.1875 -9.43084  2.71332  ... -42.7840 -1.28492      7.0  1.0\n",
            "3  80.0  30.1875 -9.31640  2.86420  ... -43.3136 -1.85072      7.0  1.0\n",
            "4  80.0  30.1875 -9.32068  2.82525  ... -43.8285 -1.56641      7.0  1.0\n",
            "\n",
            "[5 rows x 42 columns]\n",
            "(1447957, 42)\n",
            "(1447957, 2)\n",
            "(494873, 42)\n",
            "(494873, 2)\n"
          ],
          "name": "stdout"
        }
      ]
    },
    {
      "cell_type": "code",
      "metadata": {
        "id": "RSeO2qVFO8R8",
        "colab_type": "code",
        "colab": {}
      },
      "source": [
        "def get_50_observations(df, target, ids, num_steps = 50):\n",
        "    features_check = df.shape[1]-2\n",
        "    categories = 25\n",
        "    length  = math.floor(len(df)/50)\n",
        " \n",
        "    x = np.zeros((length, num_steps, features_check))\n",
        "    y = np.zeros((length, categories))\n",
        "   \n",
        "    skip_step = 50\n",
        "\n",
        "    i=0\n",
        "    while i<len(df):\n",
        "        subject_df =  pd.DataFrame(columns=range(df.shape[1]))\n",
        "        subject_target = pd.DataFrame(columns=['act'])\n",
        "        for j in ids:\n",
        "            subject_df = df.loc[df['subject'] == j].reset_index(drop=True)\n",
        "            subject_df = subject_df.rename(columns={40:\"subject\", 41:\"act\"})\n",
        "            subject_target = target.loc[target['subject'] == j].reset_index(drop=True)\n",
        "            k = 0\n",
        "            while k < len(subject_df):\n",
        "                if k+num_steps>=len(subject_df):\n",
        "                  break\n",
        "                temp_x = subject_df.iloc[k:(k + num_steps), :]\n",
        "                while temp_x['act'].nunique() != 1: \n",
        "                    k = k + 1\n",
        "                    temp_x = subject_df.iloc[k:(k + num_steps), :]\n",
        "                x[i, :, :] = subject_df.iloc[k:(k + num_steps), 0:features_check]\n",
        "                temp_y = subject_target.iloc[k:(k + num_steps),0:1].max()\n",
        "                y[i, :] = to_categorical(temp_y, num_classes=categories)\n",
        "                k = k + skip_step\n",
        "                i = i + 1\n",
        "        break\n",
        "\n",
        "    return x[:i],y[:i]"
      ],
      "execution_count": 0,
      "outputs": []
    },
    {
      "cell_type": "code",
      "metadata": {
        "id": "Iw5TG82tPghx",
        "colab_type": "code",
        "colab": {
          "base_uri": "https://localhost:8080/",
          "height": 370
        },
        "outputId": "346fdc61-1137-4ca8-fd70-567478f3bcde"
      },
      "source": [
        "prepare_train_x, prepare_train_y = get_50_observations(train, train_target, train_ids)\n",
        "prepare_test_x, prepare_test_y = get_50_observations(test, test_target, test_ids)"
      ],
      "execution_count": 10,
      "outputs": [
        {
          "output_type": "error",
          "ename": "KeyboardInterrupt",
          "evalue": "ignored",
          "traceback": [
            "\u001b[0;31m---------------------------------------------------------------------------\u001b[0m",
            "\u001b[0;31mKeyboardInterrupt\u001b[0m                         Traceback (most recent call last)",
            "\u001b[0;32m<ipython-input-10-d4f0da055567>\u001b[0m in \u001b[0;36m<module>\u001b[0;34m()\u001b[0m\n\u001b[0;32m----> 1\u001b[0;31m \u001b[0mprepare_train_x\u001b[0m\u001b[0;34m,\u001b[0m \u001b[0mprepare_train_y\u001b[0m \u001b[0;34m=\u001b[0m \u001b[0mget_50_observations\u001b[0m\u001b[0;34m(\u001b[0m\u001b[0mtrain\u001b[0m\u001b[0;34m,\u001b[0m \u001b[0mtrain_target\u001b[0m\u001b[0;34m,\u001b[0m \u001b[0mtrain_ids\u001b[0m\u001b[0;34m)\u001b[0m\u001b[0;34m\u001b[0m\u001b[0;34m\u001b[0m\u001b[0m\n\u001b[0m\u001b[1;32m      2\u001b[0m \u001b[0mprepare_test_x\u001b[0m\u001b[0;34m,\u001b[0m \u001b[0mprepare_test_y\u001b[0m \u001b[0;34m=\u001b[0m \u001b[0mget_50_observations\u001b[0m\u001b[0;34m(\u001b[0m\u001b[0mtest\u001b[0m\u001b[0;34m,\u001b[0m \u001b[0mtest_target\u001b[0m\u001b[0;34m,\u001b[0m \u001b[0mtest_ids\u001b[0m\u001b[0;34m)\u001b[0m\u001b[0;34m\u001b[0m\u001b[0;34m\u001b[0m\u001b[0m\n",
            "\u001b[0;32m<ipython-input-9-7d9b9a6ce6f1>\u001b[0m in \u001b[0;36mget_50_observations\u001b[0;34m(df, target, ids, num_steps)\u001b[0m\n\u001b[1;32m     26\u001b[0m                     \u001b[0mtemp_x\u001b[0m \u001b[0;34m=\u001b[0m \u001b[0msubject_df\u001b[0m\u001b[0;34m.\u001b[0m\u001b[0miloc\u001b[0m\u001b[0;34m[\u001b[0m\u001b[0mk\u001b[0m\u001b[0;34m:\u001b[0m\u001b[0;34m(\u001b[0m\u001b[0mk\u001b[0m \u001b[0;34m+\u001b[0m \u001b[0mnum_steps\u001b[0m\u001b[0;34m)\u001b[0m\u001b[0;34m,\u001b[0m \u001b[0;34m:\u001b[0m\u001b[0;34m]\u001b[0m\u001b[0;34m\u001b[0m\u001b[0;34m\u001b[0m\u001b[0m\n\u001b[1;32m     27\u001b[0m                 \u001b[0mx\u001b[0m\u001b[0;34m[\u001b[0m\u001b[0mi\u001b[0m\u001b[0;34m,\u001b[0m \u001b[0;34m:\u001b[0m\u001b[0;34m,\u001b[0m \u001b[0;34m:\u001b[0m\u001b[0;34m]\u001b[0m \u001b[0;34m=\u001b[0m \u001b[0msubject_df\u001b[0m\u001b[0;34m.\u001b[0m\u001b[0miloc\u001b[0m\u001b[0;34m[\u001b[0m\u001b[0mk\u001b[0m\u001b[0;34m:\u001b[0m\u001b[0;34m(\u001b[0m\u001b[0mk\u001b[0m \u001b[0;34m+\u001b[0m \u001b[0mnum_steps\u001b[0m\u001b[0;34m)\u001b[0m\u001b[0;34m,\u001b[0m \u001b[0;36m0\u001b[0m\u001b[0;34m:\u001b[0m\u001b[0mfeatures_check\u001b[0m\u001b[0;34m]\u001b[0m\u001b[0;34m\u001b[0m\u001b[0;34m\u001b[0m\u001b[0m\n\u001b[0;32m---> 28\u001b[0;31m                 \u001b[0mtemp_y\u001b[0m \u001b[0;34m=\u001b[0m \u001b[0msubject_target\u001b[0m\u001b[0;34m.\u001b[0m\u001b[0miloc\u001b[0m\u001b[0;34m[\u001b[0m\u001b[0mk\u001b[0m\u001b[0;34m:\u001b[0m\u001b[0;34m(\u001b[0m\u001b[0mk\u001b[0m \u001b[0;34m+\u001b[0m \u001b[0mnum_steps\u001b[0m\u001b[0;34m)\u001b[0m\u001b[0;34m,\u001b[0m\u001b[0;36m0\u001b[0m\u001b[0;34m:\u001b[0m\u001b[0;36m1\u001b[0m\u001b[0;34m]\u001b[0m\u001b[0;34m.\u001b[0m\u001b[0mmax\u001b[0m\u001b[0;34m(\u001b[0m\u001b[0;34m)\u001b[0m\u001b[0;34m\u001b[0m\u001b[0;34m\u001b[0m\u001b[0m\n\u001b[0m\u001b[1;32m     29\u001b[0m                 \u001b[0my\u001b[0m\u001b[0;34m[\u001b[0m\u001b[0mi\u001b[0m\u001b[0;34m,\u001b[0m \u001b[0;34m:\u001b[0m\u001b[0;34m]\u001b[0m \u001b[0;34m=\u001b[0m \u001b[0mto_categorical\u001b[0m\u001b[0;34m(\u001b[0m\u001b[0mtemp_y\u001b[0m\u001b[0;34m,\u001b[0m \u001b[0mnum_classes\u001b[0m\u001b[0;34m=\u001b[0m\u001b[0mcategories\u001b[0m\u001b[0;34m)\u001b[0m\u001b[0;34m\u001b[0m\u001b[0;34m\u001b[0m\u001b[0m\n\u001b[1;32m     30\u001b[0m                 \u001b[0mk\u001b[0m \u001b[0;34m=\u001b[0m \u001b[0mk\u001b[0m \u001b[0;34m+\u001b[0m \u001b[0mskip_step\u001b[0m\u001b[0;34m\u001b[0m\u001b[0;34m\u001b[0m\u001b[0m\n",
            "\u001b[0;32m/usr/local/lib/python3.6/dist-packages/pandas/core/generic.py\u001b[0m in \u001b[0;36mstat_func\u001b[0;34m(self, axis, skipna, level, numeric_only, **kwargs)\u001b[0m\n\u001b[1;32m  11213\u001b[0m             \u001b[0;32mreturn\u001b[0m \u001b[0mself\u001b[0m\u001b[0;34m.\u001b[0m\u001b[0m_agg_by_level\u001b[0m\u001b[0;34m(\u001b[0m\u001b[0mname\u001b[0m\u001b[0;34m,\u001b[0m \u001b[0maxis\u001b[0m\u001b[0;34m=\u001b[0m\u001b[0maxis\u001b[0m\u001b[0;34m,\u001b[0m \u001b[0mlevel\u001b[0m\u001b[0;34m=\u001b[0m\u001b[0mlevel\u001b[0m\u001b[0;34m,\u001b[0m \u001b[0mskipna\u001b[0m\u001b[0;34m=\u001b[0m\u001b[0mskipna\u001b[0m\u001b[0;34m)\u001b[0m\u001b[0;34m\u001b[0m\u001b[0;34m\u001b[0m\u001b[0m\n\u001b[1;32m  11214\u001b[0m         return self._reduce(\n\u001b[0;32m> 11215\u001b[0;31m             \u001b[0mf\u001b[0m\u001b[0;34m,\u001b[0m \u001b[0mname\u001b[0m\u001b[0;34m,\u001b[0m \u001b[0maxis\u001b[0m\u001b[0;34m=\u001b[0m\u001b[0maxis\u001b[0m\u001b[0;34m,\u001b[0m \u001b[0mskipna\u001b[0m\u001b[0;34m=\u001b[0m\u001b[0mskipna\u001b[0m\u001b[0;34m,\u001b[0m \u001b[0mnumeric_only\u001b[0m\u001b[0;34m=\u001b[0m\u001b[0mnumeric_only\u001b[0m\u001b[0;34m\u001b[0m\u001b[0;34m\u001b[0m\u001b[0m\n\u001b[0m\u001b[1;32m  11216\u001b[0m         )\n\u001b[1;32m  11217\u001b[0m \u001b[0;34m\u001b[0m\u001b[0m\n",
            "\u001b[0;32m/usr/local/lib/python3.6/dist-packages/pandas/core/frame.py\u001b[0m in \u001b[0;36m_reduce\u001b[0;34m(self, op, name, axis, skipna, numeric_only, filter_type, **kwds)\u001b[0m\n\u001b[1;32m   7963\u001b[0m \u001b[0;34m\u001b[0m\u001b[0m\n\u001b[1;32m   7964\u001b[0m         \u001b[0;32mif\u001b[0m \u001b[0mconstructor\u001b[0m \u001b[0;32mis\u001b[0m \u001b[0;32mnot\u001b[0m \u001b[0;32mNone\u001b[0m\u001b[0;34m:\u001b[0m\u001b[0;34m\u001b[0m\u001b[0;34m\u001b[0m\u001b[0m\n\u001b[0;32m-> 7965\u001b[0;31m             \u001b[0mresult\u001b[0m \u001b[0;34m=\u001b[0m \u001b[0mSeries\u001b[0m\u001b[0;34m(\u001b[0m\u001b[0mresult\u001b[0m\u001b[0;34m,\u001b[0m \u001b[0mindex\u001b[0m\u001b[0;34m=\u001b[0m\u001b[0mlabels\u001b[0m\u001b[0;34m)\u001b[0m\u001b[0;34m\u001b[0m\u001b[0;34m\u001b[0m\u001b[0m\n\u001b[0m\u001b[1;32m   7966\u001b[0m         \u001b[0;32mreturn\u001b[0m \u001b[0mresult\u001b[0m\u001b[0;34m\u001b[0m\u001b[0;34m\u001b[0m\u001b[0m\n\u001b[1;32m   7967\u001b[0m \u001b[0;34m\u001b[0m\u001b[0m\n",
            "\u001b[0;32m/usr/local/lib/python3.6/dist-packages/pandas/core/series.py\u001b[0m in \u001b[0;36m__init__\u001b[0;34m(self, data, index, dtype, name, copy, fastpath)\u001b[0m\n\u001b[1;32m    309\u001b[0m         \u001b[0mgeneric\u001b[0m\u001b[0;34m.\u001b[0m\u001b[0mNDFrame\u001b[0m\u001b[0;34m.\u001b[0m\u001b[0m__init__\u001b[0m\u001b[0;34m(\u001b[0m\u001b[0mself\u001b[0m\u001b[0;34m,\u001b[0m \u001b[0mdata\u001b[0m\u001b[0;34m,\u001b[0m \u001b[0mfastpath\u001b[0m\u001b[0;34m=\u001b[0m\u001b[0;32mTrue\u001b[0m\u001b[0;34m)\u001b[0m\u001b[0;34m\u001b[0m\u001b[0;34m\u001b[0m\u001b[0m\n\u001b[1;32m    310\u001b[0m         \u001b[0mself\u001b[0m\u001b[0;34m.\u001b[0m\u001b[0mname\u001b[0m \u001b[0;34m=\u001b[0m \u001b[0mname\u001b[0m\u001b[0;34m\u001b[0m\u001b[0;34m\u001b[0m\u001b[0m\n\u001b[0;32m--> 311\u001b[0;31m         \u001b[0mself\u001b[0m\u001b[0;34m.\u001b[0m\u001b[0m_set_axis\u001b[0m\u001b[0;34m(\u001b[0m\u001b[0;36m0\u001b[0m\u001b[0;34m,\u001b[0m \u001b[0mindex\u001b[0m\u001b[0;34m,\u001b[0m \u001b[0mfastpath\u001b[0m\u001b[0;34m=\u001b[0m\u001b[0;32mTrue\u001b[0m\u001b[0;34m)\u001b[0m\u001b[0;34m\u001b[0m\u001b[0;34m\u001b[0m\u001b[0m\n\u001b[0m\u001b[1;32m    312\u001b[0m \u001b[0;34m\u001b[0m\u001b[0m\n\u001b[1;32m    313\u001b[0m     \u001b[0;32mdef\u001b[0m \u001b[0m_init_dict\u001b[0m\u001b[0;34m(\u001b[0m\u001b[0mself\u001b[0m\u001b[0;34m,\u001b[0m \u001b[0mdata\u001b[0m\u001b[0;34m,\u001b[0m \u001b[0mindex\u001b[0m\u001b[0;34m=\u001b[0m\u001b[0;32mNone\u001b[0m\u001b[0;34m,\u001b[0m \u001b[0mdtype\u001b[0m\u001b[0;34m=\u001b[0m\u001b[0;32mNone\u001b[0m\u001b[0;34m)\u001b[0m\u001b[0;34m:\u001b[0m\u001b[0;34m\u001b[0m\u001b[0;34m\u001b[0m\u001b[0m\n",
            "\u001b[0;32m/usr/local/lib/python3.6/dist-packages/pandas/core/series.py\u001b[0m in \u001b[0;36m_set_axis\u001b[0;34m(self, axis, labels, fastpath)\u001b[0m\n\u001b[1;32m    382\u001b[0m             \u001b[0mlabels\u001b[0m \u001b[0;34m=\u001b[0m \u001b[0mensure_index\u001b[0m\u001b[0;34m(\u001b[0m\u001b[0mlabels\u001b[0m\u001b[0;34m)\u001b[0m\u001b[0;34m\u001b[0m\u001b[0;34m\u001b[0m\u001b[0m\n\u001b[1;32m    383\u001b[0m \u001b[0;34m\u001b[0m\u001b[0m\n\u001b[0;32m--> 384\u001b[0;31m         \u001b[0mis_all_dates\u001b[0m \u001b[0;34m=\u001b[0m \u001b[0mlabels\u001b[0m\u001b[0;34m.\u001b[0m\u001b[0mis_all_dates\u001b[0m\u001b[0;34m\u001b[0m\u001b[0;34m\u001b[0m\u001b[0m\n\u001b[0m\u001b[1;32m    385\u001b[0m         \u001b[0;32mif\u001b[0m \u001b[0mis_all_dates\u001b[0m\u001b[0;34m:\u001b[0m\u001b[0;34m\u001b[0m\u001b[0;34m\u001b[0m\u001b[0m\n\u001b[1;32m    386\u001b[0m             \u001b[0;32mif\u001b[0m \u001b[0;32mnot\u001b[0m \u001b[0misinstance\u001b[0m\u001b[0;34m(\u001b[0m\u001b[0mlabels\u001b[0m\u001b[0;34m,\u001b[0m \u001b[0;34m(\u001b[0m\u001b[0mDatetimeIndex\u001b[0m\u001b[0;34m,\u001b[0m \u001b[0mPeriodIndex\u001b[0m\u001b[0;34m,\u001b[0m \u001b[0mTimedeltaIndex\u001b[0m\u001b[0;34m)\u001b[0m\u001b[0;34m)\u001b[0m\u001b[0;34m:\u001b[0m\u001b[0;34m\u001b[0m\u001b[0;34m\u001b[0m\u001b[0m\n",
            "\u001b[0;32mpandas/_libs/properties.pyx\u001b[0m in \u001b[0;36mpandas._libs.properties.CachedProperty.__get__\u001b[0;34m()\u001b[0m\n",
            "\u001b[0;32m/usr/local/lib/python3.6/dist-packages/pandas/core/indexes/base.py\u001b[0m in \u001b[0;36mis_all_dates\u001b[0;34m(self)\u001b[0m\n\u001b[1;32m   1735\u001b[0m         \u001b[0;32mreturn\u001b[0m \u001b[0mlib\u001b[0m\u001b[0;34m.\u001b[0m\u001b[0minfer_dtype\u001b[0m\u001b[0;34m(\u001b[0m\u001b[0mself\u001b[0m\u001b[0;34m,\u001b[0m \u001b[0mskipna\u001b[0m\u001b[0;34m=\u001b[0m\u001b[0;32mFalse\u001b[0m\u001b[0;34m)\u001b[0m\u001b[0;34m\u001b[0m\u001b[0;34m\u001b[0m\u001b[0m\n\u001b[1;32m   1736\u001b[0m \u001b[0;34m\u001b[0m\u001b[0m\n\u001b[0;32m-> 1737\u001b[0;31m     \u001b[0;34m@\u001b[0m\u001b[0mcache_readonly\u001b[0m\u001b[0;34m\u001b[0m\u001b[0;34m\u001b[0m\u001b[0m\n\u001b[0m\u001b[1;32m   1738\u001b[0m     \u001b[0;32mdef\u001b[0m \u001b[0mis_all_dates\u001b[0m\u001b[0;34m(\u001b[0m\u001b[0mself\u001b[0m\u001b[0;34m)\u001b[0m \u001b[0;34m->\u001b[0m \u001b[0mbool\u001b[0m\u001b[0;34m:\u001b[0m\u001b[0;34m\u001b[0m\u001b[0;34m\u001b[0m\u001b[0m\n\u001b[1;32m   1739\u001b[0m         \u001b[0;32mreturn\u001b[0m \u001b[0mis_datetime_array\u001b[0m\u001b[0;34m(\u001b[0m\u001b[0mensure_object\u001b[0m\u001b[0;34m(\u001b[0m\u001b[0mself\u001b[0m\u001b[0;34m.\u001b[0m\u001b[0mvalues\u001b[0m\u001b[0;34m)\u001b[0m\u001b[0;34m)\u001b[0m\u001b[0;34m\u001b[0m\u001b[0;34m\u001b[0m\u001b[0m\n",
            "\u001b[0;31mKeyboardInterrupt\u001b[0m: "
          ]
        }
      ]
    },
    {
      "cell_type": "code",
      "metadata": {
        "id": "AFvXWQCPQxZk",
        "colab_type": "code",
        "colab": {}
      },
      "source": [
        "print (prepare_train_x.shape)\n",
        "print (prepare_train_y.shape)\n",
        "print (prepare_test_x.shape)\n",
        "print (prepare_test_y.shape)\n"
      ],
      "execution_count": 0,
      "outputs": []
    },
    {
      "cell_type": "markdown",
      "metadata": {
        "id": "8HCwsuxyU3lZ",
        "colab_type": "text"
      },
      "source": [
        "### Naïve baseline solution"
      ]
    },
    {
      "cell_type": "code",
      "metadata": {
        "id": "mhPrla53U2tl",
        "colab_type": "code",
        "colab": {
          "base_uri": "https://localhost:8080/",
          "height": 0
        },
        "outputId": "d36a066b-51a5-4a58-bfc7-d8ee156e4378"
      },
      "source": [
        "# print(train_target['act'])\n",
        "classes_train_num = train_target['act'].value_counts()\n",
        "# print((classes_train_num/classes_train_num.sum()).idxmax())\n",
        "max_probability_action = (classes_train_num/classes_train_num.sum()).idxmax()\n",
        "print(\"Action with max probability: \" + str(max_probability_action) + \" - \" + activityIDdict[max_probability_action])\n",
        "\n",
        "train_predictions = train_target.copy()\n",
        "train_predictions['act'] = max_probability_action\n",
        "diff_train = pd.DataFrame((train_predictions != train_target).any(1))[0].value_counts()\n",
        "error_vals = diff_train[1]\n",
        "true_vals = diff_train[0]\n",
        "train_accurecy = true_vals/(true_vals + error_vals)\n",
        "print (\"Accurecy on train:\")\n",
        "print (str(train_accurecy * 100) + \"%\")\n",
        "\n",
        "test_predictions = test_target.copy()\n",
        "test_predictions['act'] = max_probability_action\n",
        "diff_test = pd.DataFrame((test_predictions != test_target).any(1))[0].value_counts()\n",
        "error_vals = diff_test[1]\n",
        "true_vals = diff_test[0]\n",
        "test_accurecy = true_vals/(true_vals + error_vals)\n",
        "print (\"Accurecy on test:\")\n",
        "print (str(test_accurecy * 100) + \"%\")"
      ],
      "execution_count": 92,
      "outputs": [
        {
          "output_type": "stream",
          "text": [
            "Action with max probability: 17 - ironing\n",
            "Accurecy on train:\n",
            "12.168938718484043%\n",
            "Accurecy on test:\n",
            "12.627280130457713%\n"
          ],
          "name": "stdout"
        }
      ]
    },
    {
      "cell_type": "markdown",
      "metadata": {
        "id": "WmUBHGg1ZZao",
        "colab_type": "text"
      },
      "source": [
        "## Classical machine learning model "
      ]
    },
    {
      "cell_type": "code",
      "metadata": {
        "id": "pK3KKNh2cBak",
        "colab_type": "code",
        "colab": {
          "base_uri": "https://localhost:8080/",
          "height": 0
        },
        "outputId": "0b93dbdb-0579-41e0-da0e-587abc0cbc97"
      },
      "source": [
        "from sklearn.linear_model import LogisticRegression\n",
        "\n",
        "lrc = LogisticRegression(n_jobs=8,solver='lbfgs',multi_class='auto')\n",
        "lrc.fit(train, train_target['act'])\n"
      ],
      "execution_count": 110,
      "outputs": [
        {
          "output_type": "execute_result",
          "data": {
            "text/plain": [
              "LogisticRegression(C=1.0, class_weight=None, dual=False, fit_intercept=True,\n",
              "                   intercept_scaling=1, l1_ratio=None, max_iter=100,\n",
              "                   multi_class='auto', n_jobs=8, penalty='l2',\n",
              "                   random_state=None, solver='lbfgs', tol=0.0001, verbose=0,\n",
              "                   warm_start=False)"
            ]
          },
          "metadata": {
            "tags": []
          },
          "execution_count": 110
        }
      ]
    },
    {
      "cell_type": "code",
      "metadata": {
        "id": "h6Mz8VoNWwTy",
        "colab_type": "code",
        "colab": {
          "base_uri": "https://localhost:8080/",
          "height": 0
        },
        "outputId": "343329e0-0716-4113-b76b-0cb0ad7a1e57"
      },
      "source": [
        "preds = lrc.predict(test_x)\n",
        "\n",
        "pred_cat = preds\n",
        "print(confusion_matrix(test_target['act'],pred_cat))\n",
        "print()\n",
        "print('model accuracy on test set is: {}%'.format(accuracy_score(test_target['act'],pred_cat)*100))\n",
        "sns.heatmap(confusion_matrix(test_target['act'],pred_cat),cmap='Greens',annot=False, fmt='d')\n",
        "plt.xlabel('Prediction')\n",
        "plt.ylabel('True label')\n",
        "plt.title('PAMAP2 Logistic Regression model \\n classification results on test set')\n",
        "print()"
      ],
      "execution_count": 111,
      "outputs": [
        {
          "output_type": "stream",
          "text": [
            "[[26399 21937   476     6     0     0     0     0     0   929    24     0]\n",
            " [    0 26332  6929   486     0     0     0     0   896   549    13     0]\n",
            " [    0 10318 40141   443     0     0     0     2     0     6     1     0]\n",
            " [ 1211   169  3754 55681     0    26   966   569  1224   889   764     0]\n",
            " [   70   238   825  2551  5666   124   616  2395  6361   157   117  1104]\n",
            " [    6     0     0   417     2 43222  1240   301  1720  1242     5     0]\n",
            " [  158  1253   321  1904   963   471 24188  4284 23539   154   378     0]\n",
            " [  433   994  2340  4723   133    31  4303 11803  1673  2495   155   246]\n",
            " [  626   449  2374  6161   586    28   845  5689  3091   964   271   189]\n",
            " [  131  1264  1174  4527     0  3088     1   147  2591 29309  3612     0]\n",
            " [  613  5674 28122    34     0     0     0     0     0   161 27885     0]\n",
            " [    1     0     0   103   719   194   157  1334  2852    44     7  3395]]\n",
            "\n",
            "model accuracy on test set is: 60.03802995920166%\n",
            "\n"
          ],
          "name": "stdout"
        },
        {
          "output_type": "display_data",
          "data": {
            "image/png": "[encoded data removed]",
            "text/plain": [
              "<Figure size 432x288 with 2 Axes>"
            ]
          },
          "metadata": {
            "tags": [],
            "needs_background": "light"
          }
        }
      ]
    },
    {
      "cell_type": "markdown",
      "metadata": {
        "id": "IYx7ExIMdfd5",
        "colab_type": "text"
      },
      "source": [
        "## Neural network model"
      ]
    },
    {
      "cell_type": "code",
      "metadata": {
        "id": "n5k1yxH4RoHO",
        "colab_type": "code",
        "colab": {}
      },
      "source": [
        "def create_model(steps, num_of_features):\n",
        "  model = Sequential()\n",
        "  model.add(LSTM(200, input_shape=(steps, num_of_features), return_sequences=True))\n",
        "  model.add(LSTM(200, return_sequences=False))\n",
        "  model.add(Dense(100))\n",
        "  model.add(Dense(50))\n",
        "  model.add(BatchNormalization())\n",
        "  model.add(Dense(25,activation='softmax'))\n",
        "  model.summary()\n",
        "  return model\n"
      ],
      "execution_count": 0,
      "outputs": []
    },
    {
      "cell_type": "code",
      "metadata": {
        "id": "Sv8EOdmSZY4H",
        "colab_type": "code",
        "colab": {
          "base_uri": "https://localhost:8080/",
          "height": 0
        },
        "outputId": "f88680a8-5ef7-4c15-d1c6-c01a2d213fa4"
      },
      "source": [
        "\n",
        "model = create_model(50, train.shape[1]-2)\n",
        "model.compile(loss='categorical_crossentropy', optimizer='adam', metrics=['accuracy'])\n",
        "\n",
        "history  = model.fit(prepare_train_x, prepare_train_y, epochs=20, batch_size=1024, validation_split=0.2)\n",
        "save_model(model, \"firstInMorning\")\n",
        "plot_hisotry (history)\n",
        "confusion_matrix_predict(model, prepare_test_x, prepare_test_y )"
      ],
      "execution_count": 11,
      "outputs": [
        {
          "output_type": "stream",
          "text": [
            "Model: \"sequential_1\"\n",
            "_________________________________________________________________\n",
            "Layer (type)                 Output Shape              Param #   \n",
            "=================================================================\n",
            "lstm_1 (LSTM)                (None, 50, 200)           192800    \n",
            "_________________________________________________________________\n",
            "lstm_2 (LSTM)                (None, 200)               320800    \n",
            "_________________________________________________________________\n",
            "dense_1 (Dense)              (None, 100)               20100     \n",
            "_________________________________________________________________\n",
            "dense_2 (Dense)              (None, 50)                5050      \n",
            "_________________________________________________________________\n",
            "batch_normalization_1 (Batch (None, 50)                200       \n",
            "_________________________________________________________________\n",
            "dense_3 (Dense)              (None, 25)                1275      \n",
            "=================================================================\n",
            "Total params: 540,225\n",
            "Trainable params: 540,125\n",
            "Non-trainable params: 100\n",
            "_________________________________________________________________\n"
          ],
          "name": "stdout"
        },
        {
          "output_type": "error",
          "ename": "NameError",
          "evalue": "ignored",
          "traceback": [
            "\u001b[0;31m---------------------------------------------------------------------------\u001b[0m",
            "\u001b[0;31mNameError\u001b[0m                                 Traceback (most recent call last)",
            "\u001b[0;32m<ipython-input-11-f1792a91b3e3>\u001b[0m in \u001b[0;36m<module>\u001b[0;34m()\u001b[0m\n\u001b[1;32m     13\u001b[0m \u001b[0mmodel\u001b[0m\u001b[0;34m.\u001b[0m\u001b[0mcompile\u001b[0m\u001b[0;34m(\u001b[0m\u001b[0mloss\u001b[0m\u001b[0;34m=\u001b[0m\u001b[0;34m'categorical_crossentropy'\u001b[0m\u001b[0;34m,\u001b[0m \u001b[0moptimizer\u001b[0m\u001b[0;34m=\u001b[0m\u001b[0;34m'adam'\u001b[0m\u001b[0;34m,\u001b[0m \u001b[0mmetrics\u001b[0m\u001b[0;34m=\u001b[0m\u001b[0;34m[\u001b[0m\u001b[0;34m'accuracy'\u001b[0m\u001b[0;34m]\u001b[0m\u001b[0;34m)\u001b[0m\u001b[0;34m\u001b[0m\u001b[0;34m\u001b[0m\u001b[0m\n\u001b[1;32m     14\u001b[0m \u001b[0;34m\u001b[0m\u001b[0m\n\u001b[0;32m---> 15\u001b[0;31m \u001b[0mhistory\u001b[0m  \u001b[0;34m=\u001b[0m \u001b[0mmodel\u001b[0m\u001b[0;34m.\u001b[0m\u001b[0mfit\u001b[0m\u001b[0;34m(\u001b[0m\u001b[0mprepare_train_x\u001b[0m\u001b[0;34m,\u001b[0m \u001b[0mprepare_train_y\u001b[0m\u001b[0;34m,\u001b[0m \u001b[0mepochs\u001b[0m\u001b[0;34m=\u001b[0m\u001b[0;36m20\u001b[0m\u001b[0;34m,\u001b[0m \u001b[0mbatch_size\u001b[0m\u001b[0;34m=\u001b[0m\u001b[0;36m1024\u001b[0m\u001b[0;34m,\u001b[0m \u001b[0mvalidation_split\u001b[0m\u001b[0;34m=\u001b[0m\u001b[0;36m0.2\u001b[0m\u001b[0;34m)\u001b[0m\u001b[0;34m\u001b[0m\u001b[0;34m\u001b[0m\u001b[0m\n\u001b[0m\u001b[1;32m     16\u001b[0m \u001b[0msave_model\u001b[0m\u001b[0;34m(\u001b[0m\u001b[0mmodel\u001b[0m\u001b[0;34m,\u001b[0m \u001b[0;34m\"firstInMorning\"\u001b[0m\u001b[0;34m)\u001b[0m\u001b[0;34m\u001b[0m\u001b[0;34m\u001b[0m\u001b[0m\n\u001b[1;32m     17\u001b[0m \u001b[0mplot_hisotry\u001b[0m \u001b[0;34m(\u001b[0m\u001b[0mhistory\u001b[0m\u001b[0;34m)\u001b[0m\u001b[0;34m\u001b[0m\u001b[0;34m\u001b[0m\u001b[0m\n",
            "\u001b[0;31mNameError\u001b[0m: name 'prepare_train_x' is not defined"
          ]
        }
      ]
    },
    {
      "cell_type": "markdown",
      "metadata": {
        "id": "SFVt5_CEdYpg",
        "colab_type": "text"
      },
      "source": [
        "## Self-Supervised Tasks"
      ]
    },
    {
      "cell_type": "code",
      "metadata": {
        "id": "34mjx1zodWHt",
        "colab_type": "code",
        "colab": {}
      },
      "source": [
        "from sklearn.preprocessing import LabelBinarizer\n",
        "\n",
        "def prepare_data_self_super(df,subject_name):\n",
        "    df_copy = df.copy()\n",
        "    df_copy.drop(['timestamp'], axis=1, inplace=True)\n",
        "    df_copy = df_copy[(df_copy['activityID'] != 0)]\n",
        "    df_copy.drop([x for x in df_copy.columns if 'Ori' in x], axis=1, inplace=True)\n",
        "    df_copy.interpolate(method ='linear', limit_direction ='forward', inplace=True) \n",
        "    df_copy.dropna(inplace=True)\n",
        "    df_copy['subject'] = int(subject_name[-2:])\n",
        "    df_copy['act'] = df_copy['heartrate']\n",
        "    target = df_copy.iloc[:,1:2]\n",
        "    target['subject'] = int(subject_name[-2:])\n",
        "    df_copy.drop(['heartrate'], axis=1, inplace=True)\n",
        "\n",
        "    # data is given every 0.01s and the sampling frequency of the HR-monitor was only approximately 9Hz\n",
        "    return df_copy,target\n",
        "\n",
        "def get_50_observations_self_super(df, target, ids):\n",
        "    features_check = df.shape[1]-2\n",
        "    categories = 25\n",
        "    num_steps = 50\n",
        "    length  = math.floor(len(df)/50)\n",
        " \n",
        "    x = np.zeros((length, num_steps, features_check))\n",
        "    y = np.zeros((length, 1))\n",
        "   \n",
        "    skip_step = 50\n",
        "    i=0\n",
        "    while i<len(df):\n",
        "        subject_df =  pd.DataFrame(columns=range(df.shape[1]))\n",
        "        subject_target = pd.DataFrame(columns=['act'])\n",
        "        for j in ids:\n",
        "            subject_df = df.loc[df['subject'] == j].reset_index(drop=True)\n",
        "            subject_df = subject_df.rename(columns={40:\"subject\", 41:\"act\"})\n",
        "            subject_target = target.loc[target['subject'] == j].reset_index(drop=True)\n",
        "            k = 0\n",
        "            while k < len(subject_df):\n",
        "                if k+num_steps>=len(subject_df):\n",
        "                  break\n",
        "                temp_x = subject_df.iloc[k:(k + num_steps), :]\n",
        "                while temp_x['act'].nunique() != 1: \n",
        "                    k = k + 1\n",
        "                    temp_x = subject_df.iloc[k:(k + num_steps), :]\n",
        "                if k+num_steps>=len(subject_df):\n",
        "                  break\n",
        "                x[i, :, :] = subject_df.iloc[k:(k + num_steps), 0:features_check]\n",
        "                temp_y = subject_target.iloc[k:(k + num_steps),0:1].max()\n",
        "                y[i, :] = temp_y\n",
        "                k = k + num_steps\n",
        "                i = i + 1\n",
        "        break\n",
        "\n",
        "    return x[:i],y[:i]"
      ],
      "execution_count": 0,
      "outputs": []
    },
    {
      "cell_type": "code",
      "metadata": {
        "id": "MyybMtK6t-Jf",
        "colab_type": "code",
        "colab": {
          "base_uri": "https://localhost:8080/",
          "height": 0
        },
        "outputId": "24748e3b-4b06-4820-879c-ef22e9db7d39"
      },
      "source": [
        "ss_df_train, ss_train_target = load_train_data(columns, prepare_data_self_super)\n",
        "ss_df_test, ss_test_target = load_test_data(columns, prepare_data_self_super)"
      ],
      "execution_count": 160,
      "outputs": [
        {
          "output_type": "stream",
          "text": [
            "train\n",
            "     0       1        2        3  ...       38       39  subject    act\n",
            "0  1.0  30.375  2.30106  7.25857  ... -37.1225 -57.8847      1.0  100.0\n",
            "1  1.0  30.375  2.07165  7.25965  ... -36.9744 -57.7501      1.0  100.0\n",
            "2  1.0  30.375  2.41148  7.59780  ... -36.9632 -57.9957      1.0  100.0\n",
            "3  1.0  30.375  2.32815  7.63431  ... -36.1724 -59.3487      1.0  100.0\n",
            "4  1.0  30.375  2.25096  7.78598  ... -37.1744 -58.1199      1.0  100.0\n",
            "\n",
            "[5 rows x 42 columns]\n",
            "train target\n",
            "     act  subject\n",
            "0  100.0      1.0\n",
            "1  100.0      1.0\n",
            "2  100.0      1.0\n",
            "3  100.0      1.0\n",
            "4  100.0      1.0\n",
            "test\n",
            "     0        1        2        3  ...       38       39  subject   act\n",
            "0  1.0  30.1875 -9.50909  2.71323  ... -43.1971 -1.70813      7.0  80.0\n",
            "1  1.0  30.1875 -9.54902  2.59937  ... -43.4489 -1.85010      7.0  80.0\n",
            "2  1.0  30.1875 -9.43084  2.71332  ... -42.7840 -1.28492      7.0  80.0\n",
            "3  1.0  30.1875 -9.31640  2.86420  ... -43.3136 -1.85072      7.0  80.0\n",
            "4  1.0  30.1875 -9.32068  2.82525  ... -43.8285 -1.56641      7.0  80.0\n",
            "\n",
            "[5 rows x 42 columns]\n"
          ],
          "name": "stdout"
        }
      ]
    },
    {
      "cell_type": "code",
      "metadata": {
        "id": "v9Dsp6VOuAxt",
        "colab_type": "code",
        "colab": {}
      },
      "source": [
        "ss_df_train, ss_train_target = get_50_observations_self_super(ss_df_train, ss_train_target,train_ids)\n",
        "ss_df_test, ss_test_target = get_50_observations_self_super(ss_df_test, ss_test_target, test_ids)\n",
        "print(ss_df_train)\n",
        "print(ss_train_target)\n",
        "print(ss_df_test)\n",
        "print(ss_test_target)"
      ],
      "execution_count": 0,
      "outputs": []
    },
    {
      "cell_type": "code",
      "metadata": {
        "id": "BOy45-hBvAKW",
        "colab_type": "code",
        "colab": {
          "base_uri": "https://localhost:8080/",
          "height": 0
        },
        "outputId": "5844449f-b017-4d61-ba13-0695e43ff5f0"
      },
      "source": [
        "num_features_ss = 40\n",
        "num_steps = 50\n",
        "model_ss = Sequential()\n",
        "model_ss.add(LSTM(200, input_shape=(num_steps, num_features_ss), return_sequences=True, activation = 'relu'))\n",
        "model_ss.add(LSTM(200, return_sequences=False))\n",
        "model_ss.add(Dense(100))\n",
        "model_ss.add(Dense(50))\n",
        "model.add(BatchNormalization())\n",
        "model_ss.add(Dense(1,activation='relu'))\n",
        "\n",
        "model_ss.summary()\n",
        "model_ss.compile(loss='mse',optimizer='adam',metrics=['mae'])\n",
        "history_ss  = model_ss.fit(ss_df_train, ss_train_target, epochs=20, batch_size=1024, validation_split=0.2)"
      ],
      "execution_count": 164,
      "outputs": [
        {
          "output_type": "stream",
          "text": [
            "Model: \"sequential_19\"\n",
            "_________________________________________________________________\n",
            "Layer (type)                 Output Shape              Param #   \n",
            "=================================================================\n",
            "lstm_41 (LSTM)               (None, 50, 200)           192800    \n",
            "_________________________________________________________________\n",
            "lstm_42 (LSTM)               (None, 200)               320800    \n",
            "_________________________________________________________________\n",
            "dense_55 (Dense)             (None, 100)               20100     \n",
            "_________________________________________________________________\n",
            "dense_56 (Dense)             (None, 50)                5050      \n",
            "_________________________________________________________________\n",
            "dense_57 (Dense)             (None, 1)                 51        \n",
            "=================================================================\n",
            "Total params: 538,801\n",
            "Trainable params: 538,801\n",
            "Non-trainable params: 0\n",
            "_________________________________________________________________\n",
            "Train on 20500 samples, validate on 5125 samples\n",
            "Epoch 1/20\n",
            "20500/20500 [==============================] - 94s 5ms/step - loss: 9144.6282 - mae: 90.8699 - val_loss: 2607.8906 - val_mae: 39.7833\n",
            "Epoch 2/20\n",
            "20500/20500 [==============================] - 94s 5ms/step - loss: 1037.4306 - mae: 26.1288 - val_loss: 1126.7452 - val_mae: 25.6088\n",
            "Epoch 3/20\n",
            "20500/20500 [==============================] - 93s 5ms/step - loss: 595.6221 - mae: 19.3886 - val_loss: 933.0571 - val_mae: 25.4002\n",
            "Epoch 4/20\n",
            "20500/20500 [==============================] - 92s 4ms/step - loss: 478.5288 - mae: 17.3232 - val_loss: 861.5834 - val_mae: 24.2472\n",
            "Epoch 5/20\n",
            "20500/20500 [==============================] - 91s 4ms/step - loss: 415.0721 - mae: 15.9489 - val_loss: 801.0478 - val_mae: 22.4535\n",
            "Epoch 6/20\n",
            "20500/20500 [==============================] - 93s 5ms/step - loss: 372.2912 - mae: 14.6589 - val_loss: 762.3830 - val_mae: 23.0216\n",
            "Epoch 7/20\n",
            "20500/20500 [==============================] - 92s 4ms/step - loss: 339.6980 - mae: 13.8034 - val_loss: 701.4268 - val_mae: 21.1735\n",
            "Epoch 8/20\n",
            "20500/20500 [==============================] - 92s 5ms/step - loss: 312.4293 - mae: 13.0363 - val_loss: 685.4524 - val_mae: 20.9949\n",
            "Epoch 9/20\n",
            "20500/20500 [==============================] - 95s 5ms/step - loss: 296.2101 - mae: 12.5598 - val_loss: 672.4648 - val_mae: 20.8080\n",
            "Epoch 10/20\n",
            "20500/20500 [==============================] - 99s 5ms/step - loss: 278.4215 - mae: 12.1386 - val_loss: 655.2552 - val_mae: 20.2440\n",
            "Epoch 11/20\n",
            "20500/20500 [==============================] - 97s 5ms/step - loss: 306.0574 - mae: 12.8106 - val_loss: 823.6227 - val_mae: 21.9247\n",
            "Epoch 12/20\n",
            "20500/20500 [==============================] - 103s 5ms/step - loss: 350.5957 - mae: 13.9385 - val_loss: 742.1110 - val_mae: 21.7958\n",
            "Epoch 13/20\n",
            "20500/20500 [==============================] - 95s 5ms/step - loss: 334.4369 - mae: 13.5290 - val_loss: 716.7640 - val_mae: 20.7026\n",
            "Epoch 14/20\n",
            "20500/20500 [==============================] - 94s 5ms/step - loss: 318.2628 - mae: 13.0726 - val_loss: 695.2103 - val_mae: 21.1910\n",
            "Epoch 15/20\n",
            "20500/20500 [==============================] - 93s 5ms/step - loss: 289.9660 - mae: 12.2936 - val_loss: 651.4601 - val_mae: 19.7435\n",
            "Epoch 16/20\n",
            "20500/20500 [==============================] - 94s 5ms/step - loss: 263.4498 - mae: 11.5312 - val_loss: 624.7758 - val_mae: 20.2764\n",
            "Epoch 17/20\n",
            "20500/20500 [==============================] - 93s 5ms/step - loss: 253.0368 - mae: 11.2643 - val_loss: 600.2667 - val_mae: 19.4214\n",
            "Epoch 18/20\n",
            "20500/20500 [==============================] - 93s 5ms/step - loss: 245.3733 - mae: 11.0585 - val_loss: 575.0887 - val_mae: 18.5567\n",
            "Epoch 19/20\n",
            "20500/20500 [==============================] - 95s 5ms/step - loss: 233.1703 - mae: 10.6860 - val_loss: 563.3259 - val_mae: 18.7186\n",
            "Epoch 20/20\n",
            "20500/20500 [==============================] - 95s 5ms/step - loss: 222.1234 - mae: 10.4469 - val_loss: 544.7521 - val_mae: 18.3023\n"
          ],
          "name": "stdout"
        }
      ]
    },
    {
      "cell_type": "code",
      "metadata": {
        "id": "9QIzcg3I3dy0",
        "colab_type": "code",
        "colab": {}
      },
      "source": [
        "save_model(model_ss, \"ss_model\")"
      ],
      "execution_count": 0,
      "outputs": []
    },
    {
      "cell_type": "code",
      "metadata": {
        "id": "ZAZ7lkOAB7sx",
        "colab_type": "code",
        "colab": {}
      },
      "source": [
        "def visual_results(history):\n",
        "  plt.plot(history.history['mae'])\n",
        "  plt.plot(history.history['val_mae'])\n",
        "  plt.title('Model MAE')\n",
        "  plt.ylabel('MAE')\n",
        "  plt.xlabel('Epoch')\n",
        "  plt.legend(['Train', 'Test'], loc='upper left')\n",
        "  plt.show()\n",
        "\n",
        "  plt.plot(history.history['loss'])\n",
        "  plt.plot(history.history['val_loss'])\n",
        "  plt.title('Model loss')\n",
        "  plt.ylabel('Loss')\n",
        "  plt.xlabel('Epoch')\n",
        "  plt.legend(['Train', 'Test'], loc='upper left')\n",
        "  plt.show()"
      ],
      "execution_count": 0,
      "outputs": []
    },
    {
      "cell_type": "code",
      "metadata": {
        "id": "BgcrrJtYAPT5",
        "colab_type": "code",
        "colab": {
          "base_uri": "https://localhost:8080/",
          "height": 0
        },
        "outputId": "07597842-9987-434c-c8b8-403f1995e42d"
      },
      "source": [
        "from sklearn.metrics import mean_squared_error\n",
        "test_preds = model_ss.predict(np.stack(ss_df_test,axis=0))\n",
        "test_targets = ss_test_target\n",
        "visual_results(history_ss)\n",
        "print(\"MAE for heartrate prediction: \" + str(mean_squared_error(test_targets,test_preds)))\n"
      ],
      "execution_count": 169,
      "outputs": [
        {
          "output_type": "display_data",
          "data": {
            "image/png": "[encoded data removed]",
            "text/plain": [
              "<Figure size 432x288 with 1 Axes>"
            ]
          },
          "metadata": {
            "tags": [],
            "needs_background": "light"
          }
        },
        {
          "output_type": "display_data",
          "data": {
            "image/png": "[encoded data removed]",
            "text/plain": [
              "<Figure size 432x288 with 1 Axes>"
            ]
          },
          "metadata": {
            "tags": [],
            "needs_background": "light"
          }
        },
        {
          "output_type": "stream",
          "text": [
            "MAE for heartrate prediction: 677.2088356929528\n"
          ],
          "name": "stdout"
        }
      ]
    },
    {
      "cell_type": "code",
      "metadata": {
        "id": "F_p9EJ77CvX_",
        "colab_type": "code",
        "colab": {
          "base_uri": "https://localhost:8080/",
          "height": 0
        },
        "outputId": "01d17df8-df7c-4767-fb3f-c73c44d6af78"
      },
      "source": [
        "for layer in model_ss.layers:\n",
        "    layer.trainable = False\n",
        "    \n",
        "x = model_ss.layers[-2].output\n",
        "x = Dense(25, activation=\"softmax\")(x)\n",
        "\n",
        "new_model = Model(inputs = model_ss.input, outputs = x)\n",
        "\n",
        "new_model.summary()\n",
        "new_model.compile(loss = \"categorical_crossentropy\", optimizer = 'adam', metrics=[\"accuracy\"])\n",
        "history_transfer_model  = new_model.fit(prepare_train_x, prepare_train_y, epochs=50, batch_size=512, validation_split=0.2)"
      ],
      "execution_count": 171,
      "outputs": [
        {
          "output_type": "stream",
          "text": [
            "Model: \"model_2\"\n",
            "_________________________________________________________________\n",
            "Layer (type)                 Output Shape              Param #   \n",
            "=================================================================\n",
            "lstm_41_input (InputLayer)   (None, 50, 40)            0         \n",
            "_________________________________________________________________\n",
            "lstm_41 (LSTM)               (None, 50, 200)           192800    \n",
            "_________________________________________________________________\n",
            "lstm_42 (LSTM)               (None, 200)               320800    \n",
            "_________________________________________________________________\n",
            "dense_55 (Dense)             (None, 100)               20100     \n",
            "_________________________________________________________________\n",
            "dense_56 (Dense)             (None, 50)                5050      \n",
            "_________________________________________________________________\n",
            "dense_59 (Dense)             (None, 25)                1275      \n",
            "=================================================================\n",
            "Total params: 540,025\n",
            "Trainable params: 1,275\n",
            "Non-trainable params: 538,750\n",
            "_________________________________________________________________\n",
            "Train on 23132 samples, validate on 5783 samples\n",
            "Epoch 1/50\n",
            "23132/23132 [==============================] - 39s 2ms/step - loss: 7.6125 - accuracy: 0.1019 - val_loss: 2.9709 - val_accuracy: 0.0685\n",
            "Epoch 2/50\n",
            "23132/23132 [==============================] - 37s 2ms/step - loss: 2.5171 - accuracy: 0.1118 - val_loss: 2.7017 - val_accuracy: 0.0718\n",
            "Epoch 3/50\n",
            "23132/23132 [==============================] - 37s 2ms/step - loss: 2.4721 - accuracy: 0.1177 - val_loss: 2.6588 - val_accuracy: 0.0673\n",
            "Epoch 4/50\n",
            "23132/23132 [==============================] - 37s 2ms/step - loss: 2.4601 - accuracy: 0.1209 - val_loss: 2.6898 - val_accuracy: 0.0695\n",
            "Epoch 5/50\n",
            "23132/23132 [==============================] - 39s 2ms/step - loss: 2.4476 - accuracy: 0.1220 - val_loss: 2.7030 - val_accuracy: 0.0816\n",
            "Epoch 6/50\n",
            "23132/23132 [==============================] - 38s 2ms/step - loss: 2.4347 - accuracy: 0.1290 - val_loss: 2.6568 - val_accuracy: 0.0840\n",
            "Epoch 7/50\n",
            "23132/23132 [==============================] - 38s 2ms/step - loss: 2.4208 - accuracy: 0.1331 - val_loss: 2.7087 - val_accuracy: 0.0792\n",
            "Epoch 8/50\n",
            "23132/23132 [==============================] - 38s 2ms/step - loss: 2.4026 - accuracy: 0.1415 - val_loss: 2.6543 - val_accuracy: 0.0913\n",
            "Epoch 9/50\n",
            "23132/23132 [==============================] - 37s 2ms/step - loss: 2.3867 - accuracy: 0.1483 - val_loss: 2.6188 - val_accuracy: 0.0982\n",
            "Epoch 10/50\n",
            "23132/23132 [==============================] - 37s 2ms/step - loss: 2.3702 - accuracy: 0.1567 - val_loss: 2.6044 - val_accuracy: 0.0980\n",
            "Epoch 11/50\n",
            "23132/23132 [==============================] - 37s 2ms/step - loss: 2.3515 - accuracy: 0.1647 - val_loss: 2.6053 - val_accuracy: 0.1070\n",
            "Epoch 12/50\n",
            "23132/23132 [==============================] - 38s 2ms/step - loss: 2.3381 - accuracy: 0.1762 - val_loss: 2.6547 - val_accuracy: 0.1229\n",
            "Epoch 13/50\n",
            "23132/23132 [==============================] - 37s 2ms/step - loss: 2.3273 - accuracy: 0.1817 - val_loss: 2.5876 - val_accuracy: 0.1195\n",
            "Epoch 14/50\n",
            "23132/23132 [==============================] - 38s 2ms/step - loss: 2.3048 - accuracy: 0.1948 - val_loss: 2.5065 - val_accuracy: 0.1261\n",
            "Epoch 15/50\n",
            "23132/23132 [==============================] - 37s 2ms/step - loss: 2.2890 - accuracy: 0.2025 - val_loss: 2.5941 - val_accuracy: 0.1382\n",
            "Epoch 16/50\n",
            "23132/23132 [==============================] - 38s 2ms/step - loss: 2.2745 - accuracy: 0.2119 - val_loss: 2.6145 - val_accuracy: 0.1513\n",
            "Epoch 17/50\n",
            "23132/23132 [==============================] - 37s 2ms/step - loss: 2.2603 - accuracy: 0.2154 - val_loss: 2.5309 - val_accuracy: 0.1542\n",
            "Epoch 18/50\n",
            "23132/23132 [==============================] - 38s 2ms/step - loss: 2.2427 - accuracy: 0.2288 - val_loss: 2.4915 - val_accuracy: 0.1527\n",
            "Epoch 19/50\n",
            "23132/23132 [==============================] - 37s 2ms/step - loss: 2.2322 - accuracy: 0.2360 - val_loss: 2.5031 - val_accuracy: 0.1430\n",
            "Epoch 20/50\n",
            "23132/23132 [==============================] - 37s 2ms/step - loss: 2.2147 - accuracy: 0.2420 - val_loss: 2.5073 - val_accuracy: 0.1646\n",
            "Epoch 21/50\n",
            "23132/23132 [==============================] - 39s 2ms/step - loss: 2.2005 - accuracy: 0.2474 - val_loss: 2.4912 - val_accuracy: 0.1548\n",
            "Epoch 22/50\n",
            "23132/23132 [==============================] - 37s 2ms/step - loss: 2.1939 - accuracy: 0.2538 - val_loss: 2.5105 - val_accuracy: 0.1572\n",
            "Epoch 23/50\n",
            "23132/23132 [==============================] - 37s 2ms/step - loss: 2.1798 - accuracy: 0.2568 - val_loss: 2.4998 - val_accuracy: 0.1561\n",
            "Epoch 24/50\n",
            "23132/23132 [==============================] - 38s 2ms/step - loss: 2.1691 - accuracy: 0.2622 - val_loss: 2.4470 - val_accuracy: 0.1786\n",
            "Epoch 25/50\n",
            "23132/23132 [==============================] - 37s 2ms/step - loss: 2.1547 - accuracy: 0.2692 - val_loss: 2.4326 - val_accuracy: 0.1869\n",
            "Epoch 26/50\n",
            "23132/23132 [==============================] - 38s 2ms/step - loss: 2.1420 - accuracy: 0.2735 - val_loss: 2.4282 - val_accuracy: 0.1812\n",
            "Epoch 27/50\n",
            "23132/23132 [==============================] - 37s 2ms/step - loss: 2.1314 - accuracy: 0.2748 - val_loss: 2.4545 - val_accuracy: 0.1909\n",
            "Epoch 28/50\n",
            "23132/23132 [==============================] - 38s 2ms/step - loss: 2.1235 - accuracy: 0.2781 - val_loss: 2.4239 - val_accuracy: 0.1961\n",
            "Epoch 29/50\n",
            "23132/23132 [==============================] - 38s 2ms/step - loss: 2.1114 - accuracy: 0.2848 - val_loss: 2.4622 - val_accuracy: 0.1767\n",
            "Epoch 30/50\n",
            "23132/23132 [==============================] - 38s 2ms/step - loss: 2.1089 - accuracy: 0.2747 - val_loss: 2.4287 - val_accuracy: 0.1892\n",
            "Epoch 31/50\n",
            "23132/23132 [==============================] - 38s 2ms/step - loss: 2.0957 - accuracy: 0.2896 - val_loss: 2.3873 - val_accuracy: 0.1925\n",
            "Epoch 32/50\n",
            "23132/23132 [==============================] - 37s 2ms/step - loss: 2.0887 - accuracy: 0.2919 - val_loss: 2.4222 - val_accuracy: 0.1847\n",
            "Epoch 33/50\n",
            "23132/23132 [==============================] - 38s 2ms/step - loss: 2.0796 - accuracy: 0.2939 - val_loss: 2.3029 - val_accuracy: 0.1864\n",
            "Epoch 34/50\n",
            "23132/23132 [==============================] - 38s 2ms/step - loss: 2.0705 - accuracy: 0.2980 - val_loss: 2.3661 - val_accuracy: 0.1907\n",
            "Epoch 35/50\n",
            "23132/23132 [==============================] - 37s 2ms/step - loss: 2.0657 - accuracy: 0.2996 - val_loss: 2.3807 - val_accuracy: 0.1970\n",
            "Epoch 36/50\n",
            "23132/23132 [==============================] - 38s 2ms/step - loss: 2.0635 - accuracy: 0.2929 - val_loss: 2.3588 - val_accuracy: 0.1997\n",
            "Epoch 37/50\n",
            "23132/23132 [==============================] - 37s 2ms/step - loss: 2.0504 - accuracy: 0.3038 - val_loss: 2.3597 - val_accuracy: 0.2085\n",
            "Epoch 38/50\n",
            "23132/23132 [==============================] - 39s 2ms/step - loss: 2.0437 - accuracy: 0.3042 - val_loss: 2.3976 - val_accuracy: 0.1783\n",
            "Epoch 39/50\n",
            "23132/23132 [==============================] - 38s 2ms/step - loss: 2.0410 - accuracy: 0.3023 - val_loss: 2.3923 - val_accuracy: 0.1990\n",
            "Epoch 40/50\n",
            "23132/23132 [==============================] - 38s 2ms/step - loss: 2.0355 - accuracy: 0.3033 - val_loss: 2.3726 - val_accuracy: 0.2028\n",
            "Epoch 41/50\n",
            "23132/23132 [==============================] - 38s 2ms/step - loss: 2.0290 - accuracy: 0.3089 - val_loss: 2.3554 - val_accuracy: 0.2016\n",
            "Epoch 42/50\n",
            "23132/23132 [==============================] - 38s 2ms/step - loss: 2.0222 - accuracy: 0.3109 - val_loss: 2.3918 - val_accuracy: 0.1954\n",
            "Epoch 43/50\n",
            "23132/23132 [==============================] - 38s 2ms/step - loss: 2.0186 - accuracy: 0.3107 - val_loss: 2.3361 - val_accuracy: 0.2407\n",
            "Epoch 44/50\n",
            "23132/23132 [==============================] - 38s 2ms/step - loss: 2.0124 - accuracy: 0.3151 - val_loss: 2.2592 - val_accuracy: 0.2134\n",
            "Epoch 45/50\n",
            "23132/23132 [==============================] - 38s 2ms/step - loss: 2.0038 - accuracy: 0.3152 - val_loss: 2.2858 - val_accuracy: 0.1909\n",
            "Epoch 46/50\n",
            "23132/23132 [==============================] - 38s 2ms/step - loss: 2.0023 - accuracy: 0.3145 - val_loss: 2.3938 - val_accuracy: 0.1904\n",
            "Epoch 47/50\n",
            "23132/23132 [==============================] - 38s 2ms/step - loss: 2.0029 - accuracy: 0.3151 - val_loss: 2.2868 - val_accuracy: 0.2182\n",
            "Epoch 48/50\n",
            "23132/23132 [==============================] - 38s 2ms/step - loss: 1.9914 - accuracy: 0.3222 - val_loss: 2.3610 - val_accuracy: 0.1890\n",
            "Epoch 49/50\n",
            "23132/23132 [==============================] - 38s 2ms/step - loss: 1.9925 - accuracy: 0.3107 - val_loss: 2.3380 - val_accuracy: 0.2058\n",
            "Epoch 50/50\n",
            "23132/23132 [==============================] - 37s 2ms/step - loss: 1.9825 - accuracy: 0.3226 - val_loss: 2.3524 - val_accuracy: 0.2073\n"
          ],
          "name": "stdout"
        }
      ]
    },
    {
      "cell_type": "code",
      "metadata": {
        "id": "1E3nJvz_CvQF",
        "colab_type": "code",
        "colab": {
          "base_uri": "https://localhost:8080/",
          "height": 0
        },
        "outputId": "5ca17e94-1c41-462a-c44f-918edac4805d"
      },
      "source": [
        "save_model(new_model, \"ss_fit_model\")\n",
        "plot_hisotry (history_transfer_model)\n",
        "confusion_matrix_predict(new_model, prepare_test_x, prepare_test_y )"
      ],
      "execution_count": 172,
      "outputs": [
        {
          "output_type": "display_data",
          "data": {
            "image/png": "[encoded data removed]",
            "text/plain": [
              "<Figure size 432x288 with 1 Axes>"
            ]
          },
          "metadata": {
            "tags": [],
            "needs_background": "light"
          }
        },
        {
          "output_type": "display_data",
          "data": {
            "image/png": "[encoded data removed]",
            "text/plain": [
              "<Figure size 432x288 with 1 Axes>"
            ]
          },
          "metadata": {
            "tags": [],
            "needs_background": "light"
          }
        },
        {
          "output_type": "stream",
          "text": [
            "[[563 345   8  22   0   5   0   2   1  14  35   0]\n",
            " [160 161  13  66   0   0   0   0   3  25 275   0]\n",
            " [ 84 252  90 126   0   4   0  16   1 114 331   0]\n",
            " [ 82 254 106 316   0  40   2  35  18 234 217   0]\n",
            " [106  50  10  63   0   7   1   7  17  45  97   0]\n",
            " [ 93  86   9 239   0 101   0  28  17 298  91   0]\n",
            " [157 197  35 207   0  30   0  42  24 165 294   0]\n",
            " [ 66  79  28 137   0  26   2  29  21 114  83   0]\n",
            " [ 33  56  44 100   0  22   1  13  19  69  66   0]\n",
            " [ 91 126  36 189   0  36   3  25   5 173 232   0]\n",
            " [167 375  47 152   0   8   5   4  24 140 326   0]\n",
            " [ 55  32   1  18   0   9   0   2   5  17  37   0]]\n",
            "model accuracy on test set is: 17.988668555240793%\n",
            "\n",
            "x_data\n",
            "[[ 80.       30.1875   -9.50909 ... -53.4549  -43.1971   -1.70813]\n",
            " [ 80.       30.1875   -9.54902 ... -53.5788  -43.4489   -1.8501 ]\n",
            " [ 80.       30.1875   -9.43084 ... -53.9694  -42.784    -1.28492]\n",
            " ...\n",
            " [ 80.       30.1875   -9.24349 ... -53.6936  -43.8281   -1.42457]\n",
            " [ 80.       30.1875   -9.39893 ... -53.3178  -43.7194   -1.84887]\n",
            " [ 80.       30.1875   -9.24724 ... -53.7018  -43.4415   -1.42505]]\n",
            "y_data\n",
            "1\n",
            "predict data\n",
            "16\n",
            "x_data\n",
            "[[ 80.       30.1875   -9.36515 ... -52.9163  -44.3819   -1.42119]\n",
            " [ 80.       30.1875   -9.39866 ... -53.4561  -43.0679   -1.56645]\n",
            " [ 80.       30.1875   -9.32816 ... -53.4522  -43.326    -1.70797]\n",
            " ...\n",
            " [ 79.       30.1875   -9.55383 ... -53.1772  -44.1113   -1.42243]\n",
            " [ 79.       30.1875   -9.4737  ... -53.4487  -43.7137   -2.133  ]\n",
            " [ 79.       30.1875   -9.32281 ... -52.9342  -43.6089   -1.56399]]\n",
            "y_data\n",
            "1\n",
            "predict data\n",
            "4\n",
            "x_data\n",
            "[[ 79.       30.1875   -9.59563 ... -53.9538  -43.8164   -1.851  ]\n",
            " [ 79.       30.1875   -9.4426  ... -52.9194  -44.3825   -1.70487]\n",
            " [ 79.       30.1875   -9.43885 ... -52.9194  -44.3825   -1.70487]\n",
            " ...\n",
            " [ 79.       30.1875   -9.43993 ... -53.1936  -43.856    -2.4156 ]\n",
            " [ 79.       30.1875   -9.32736 ... -53.0433  -44.1164   -0.85462]\n",
            " [ 79.       30.1875   -9.47103 ... -53.3081  -44.1057   -1.70656]]\n",
            "y_data\n",
            "1\n",
            "predict data\n",
            "13\n",
            "x_data\n",
            "[[ 79.        30.1875    -9.51069  ... -52.9319   -43.8674    -1.84734 ]\n",
            " [ 79.        30.1875    -9.4024   ... -53.1652   -44.2382    -0.571243]\n",
            " [ 79.        30.1875    -9.28209  ... -52.6768   -44.0097    -2.12994 ]\n",
            " ...\n",
            " [ 78.        30.1875    -9.668    ... -52.8127   -43.6166    -2.13088 ]\n",
            " [ 78.        30.1875    -9.37023  ... -53.3019   -44.6222    -2.13143 ]\n",
            " [ 78.        30.1875    -9.44019  ... -53.3174   -44.1077    -2.55758 ]]\n",
            "y_data\n",
            "1\n",
            "predict data\n",
            "17\n",
            "x_data\n",
            "[[ 78.          30.1875      -9.40267    ... -52.8046     -44.0033\n",
            "   -2.1304    ]\n",
            " [ 78.          30.1875      -9.60178    ... -52.8003     -44.1318\n",
            "   -1.9884    ]\n",
            " [ 78.          30.1875      -9.43885    ... -52.5495     -43.6277\n",
            "   -1.42078   ]\n",
            " ...\n",
            " [ 77.36363636  30.1875      -9.47932    ... -52.5413     -44.5322\n",
            "   -2.41252   ]\n",
            " [ 77.27272727  30.1875      -9.28957    ... -52.5323     -44.6597\n",
            "   -1.84502   ]\n",
            " [ 77.18181818  30.1875      -9.37344    ... -53.0398     -45.0219\n",
            "   -2.27188   ]]\n",
            "y_data\n",
            "1\n",
            "predict data\n",
            "17\n"
          ],
          "name": "stdout"
        },
        {
          "output_type": "display_data",
          "data": {
            "image/png": "[encoded data removed]",
            "text/plain": [
              "<Figure size 432x288 with 2 Axes>"
            ]
          },
          "metadata": {
            "tags": [],
            "needs_background": "light"
          }
        }
      ]
    },
    {
      "cell_type": "markdown",
      "metadata": {
        "id": "zgKDfPfxnuuO",
        "colab_type": "text"
      },
      "source": [
        "## Improving the model"
      ]
    },
    {
      "cell_type": "code",
      "metadata": {
        "id": "Keadh-NYTE7W",
        "colab_type": "code",
        "colab": {
          "base_uri": "https://localhost:8080/",
          "height": 674
        },
        "outputId": "0936f035-616f-44b8-bbbf-617dc9a13cfc"
      },
      "source": [
        "train_norm, train_target_norm = load_train_data(columns, prepare_data)\n",
        "test_norm, test_target_norm = load_test_data(columns, prepare_data)"
      ],
      "execution_count": 12,
      "outputs": [
        {
          "output_type": "stream",
          "text": [
            "/usr/local/lib/python3.6/dist-packages/ipykernel_launcher.py:12: SettingWithCopyWarning: \n",
            "A value is trying to be set on a copy of a slice from a DataFrame.\n",
            "Try using .loc[row_indexer,col_indexer] = value instead\n",
            "\n",
            "See the caveats in the documentation: https://pandas.pydata.org/pandas-docs/stable/user_guide/indexing.html#returning-a-view-versus-a-copy\n",
            "  if sys.path[0] == '':\n"
          ],
          "name": "stderr"
        },
        {
          "output_type": "stream",
          "text": [
            "train\n",
            "       0       1        2        3  ...       38       39  subject  act\n",
            "0  100.0  30.375  2.30106  7.25857  ... -37.1225 -57.8847      1.0  1.0\n",
            "1  100.0  30.375  2.07165  7.25965  ... -36.9744 -57.7501      1.0  1.0\n",
            "2  100.0  30.375  2.41148  7.59780  ... -36.9632 -57.9957      1.0  1.0\n",
            "3  100.0  30.375  2.32815  7.63431  ... -36.1724 -59.3487      1.0  1.0\n",
            "4  100.0  30.375  2.25096  7.78598  ... -37.1744 -58.1199      1.0  1.0\n",
            "\n",
            "[5 rows x 42 columns]\n",
            "train target\n",
            "   act  subject\n",
            "0    1        1\n",
            "1    1        1\n",
            "2    1        1\n",
            "3    1        1\n",
            "4    1        1\n"
          ],
          "name": "stdout"
        },
        {
          "output_type": "stream",
          "text": [
            "/usr/local/lib/python3.6/dist-packages/ipykernel_launcher.py:12: SettingWithCopyWarning: \n",
            "A value is trying to be set on a copy of a slice from a DataFrame.\n",
            "Try using .loc[row_indexer,col_indexer] = value instead\n",
            "\n",
            "See the caveats in the documentation: https://pandas.pydata.org/pandas-docs/stable/user_guide/indexing.html#returning-a-view-versus-a-copy\n",
            "  if sys.path[0] == '':\n"
          ],
          "name": "stderr"
        },
        {
          "output_type": "stream",
          "text": [
            "test\n",
            "      0        1        2        3  ...       38       39  subject  act\n",
            "0  80.0  30.1875 -9.50909  2.71323  ... -43.1971 -1.70813      7.0  1.0\n",
            "1  80.0  30.1875 -9.54902  2.59937  ... -43.4489 -1.85010      7.0  1.0\n",
            "2  80.0  30.1875 -9.43084  2.71332  ... -42.7840 -1.28492      7.0  1.0\n",
            "3  80.0  30.1875 -9.31640  2.86420  ... -43.3136 -1.85072      7.0  1.0\n",
            "4  80.0  30.1875 -9.32068  2.82525  ... -43.8285 -1.56641      7.0  1.0\n",
            "\n",
            "[5 rows x 42 columns]\n"
          ],
          "name": "stdout"
        }
      ]
    },
    {
      "cell_type": "code",
      "metadata": {
        "id": "xWJYUAILOazT",
        "colab_type": "code",
        "colab": {
          "base_uri": "https://localhost:8080/",
          "height": 1000
        },
        "outputId": "65359ffc-eb5c-4ec6-e5b3-716bac524fa8"
      },
      "source": [
        "train_norm = train_norm.astype('float32')\n",
        "test_norm = test_norm.astype('float32')\n",
        "mean_train = np.mean(train_norm, axis = 0)\n",
        "std_train = np.std(train_norm, axis = 0)\n",
        "train_norm_before = train_norm.copy()\n",
        "train_norm_before = (train_norm_before-mean_train)/std_train\n",
        "train_norm_before['subject'] = train_norm['subject']\n",
        "train_norm_before['act'] = train_norm['act']\n",
        "print(train_norm_before)\n",
        "train_norm = train_norm_before\n",
        "print(train_norm)\n",
        "\n",
        "mean_test = np.mean(test_norm, axis = 0)\n",
        "std_test = np.std(test_norm, axis = 0)\n",
        "test_norm_before = test_norm.copy()\n",
        "test_norm_before = (test_norm_before-mean_test)/std_test\n",
        "test_norm_before['subject'] = test_norm['subject']\n",
        "test_norm_before['act'] = test_norm['act']\n",
        "print(test_norm_before)\n",
        "test_norm = test_norm_before\n",
        "print(test_norm)\n"
      ],
      "execution_count": 14,
      "outputs": [
        {
          "output_type": "stream",
          "text": [
            "                0         1         2  ...        39  subject   act\n",
            "0       -0.335912 -1.188510  1.118412  ... -3.673743      1.0   1.0\n",
            "1       -0.335912 -1.188510  1.082466  ... -3.667156      1.0   1.0\n",
            "2       -0.335912 -1.188510  1.135714  ... -3.679176      1.0   1.0\n",
            "3       -0.335912 -1.188510  1.122657  ... -3.745390      1.0   1.0\n",
            "4       -0.335912 -1.188510  1.110562  ... -3.685254      1.0   1.0\n",
            "...           ...       ...       ...  ...       ...      ...   ...\n",
            "1447952  2.026600 -3.934668  1.540466  ... -0.849266      9.0  24.0\n",
            "1447953  2.026600 -3.934668  1.545634  ... -0.814604      9.0  24.0\n",
            "1447954  2.026600 -3.934668  1.551345  ... -0.814491      9.0  24.0\n",
            "1447955  2.026600 -3.934668  1.563105  ... -0.807656      9.0  24.0\n",
            "1447956  2.026600 -3.934668  1.542575  ... -0.856274      9.0  24.0\n",
            "\n",
            "[1447957 rows x 42 columns]\n",
            "                0         1         2  ...        39  subject   act\n",
            "0       -0.335912 -1.188510  1.118412  ... -3.673743      1.0   1.0\n",
            "1       -0.335912 -1.188510  1.082466  ... -3.667156      1.0   1.0\n",
            "2       -0.335912 -1.188510  1.135714  ... -3.679176      1.0   1.0\n",
            "3       -0.335912 -1.188510  1.122657  ... -3.745390      1.0   1.0\n",
            "4       -0.335912 -1.188510  1.110562  ... -3.685254      1.0   1.0\n",
            "...           ...       ...       ...  ...       ...      ...   ...\n",
            "1447952  2.026600 -3.934668  1.540466  ... -0.849266      9.0  24.0\n",
            "1447953  2.026600 -3.934668  1.545634  ... -0.814604      9.0  24.0\n",
            "1447954  2.026600 -3.934668  1.551345  ... -0.814491      9.0  24.0\n",
            "1447955  2.026600 -3.934668  1.563105  ... -0.807656      9.0  24.0\n",
            "1447956  2.026600 -3.934668  1.542575  ... -0.856274      9.0  24.0\n",
            "\n",
            "[1447957 rows x 42 columns]\n",
            "               0         1         2  ...        39  subject   act\n",
            "0      -0.823388 -2.127830 -0.729300  ... -1.103825      7.0   1.0\n",
            "1      -0.823388 -2.127830 -0.736207  ... -1.112006      7.0   1.0\n",
            "2      -0.823388 -2.127830 -0.715765  ... -1.079437      7.0   1.0\n",
            "3      -0.823388 -2.127830 -0.695970  ... -1.112042      7.0   1.0\n",
            "4      -0.823388 -2.127830 -0.696711  ... -1.095658      7.0   1.0\n",
            "...          ...       ...       ...  ...       ...      ...   ...\n",
            "494868  3.395934 -1.664293  0.644362  ...  1.258843      8.0  24.0\n",
            "494869  3.395934 -1.664293  0.632167  ...  1.267044      8.0  24.0\n",
            "494870  3.395934 -1.664293  0.605789  ...  1.242523      8.0  24.0\n",
            "494871  3.395934 -1.664293  0.630640  ...  1.250902      8.0  24.0\n",
            "494872  3.395934 -1.664293  0.617845  ...  1.258832      8.0  24.0\n",
            "\n",
            "[494873 rows x 42 columns]\n",
            "               0         1         2  ...        39  subject   act\n",
            "0      -0.823388 -2.127830 -0.729300  ... -1.103825      7.0   1.0\n",
            "1      -0.823388 -2.127830 -0.736207  ... -1.112006      7.0   1.0\n",
            "2      -0.823388 -2.127830 -0.715765  ... -1.079437      7.0   1.0\n",
            "3      -0.823388 -2.127830 -0.695970  ... -1.112042      7.0   1.0\n",
            "4      -0.823388 -2.127830 -0.696711  ... -1.095658      7.0   1.0\n",
            "...          ...       ...       ...  ...       ...      ...   ...\n",
            "494868  3.395934 -1.664293  0.644362  ...  1.258843      8.0  24.0\n",
            "494869  3.395934 -1.664293  0.632167  ...  1.267044      8.0  24.0\n",
            "494870  3.395934 -1.664293  0.605789  ...  1.242523      8.0  24.0\n",
            "494871  3.395934 -1.664293  0.630640  ...  1.250902      8.0  24.0\n",
            "494872  3.395934 -1.664293  0.617845  ...  1.258832      8.0  24.0\n",
            "\n",
            "[494873 rows x 42 columns]\n"
          ],
          "name": "stdout"
        }
      ]
    },
    {
      "cell_type": "code",
      "metadata": {
        "id": "A0Ye8p10Of6P",
        "colab_type": "code",
        "colab": {}
      },
      "source": [
        "train_x, train_y = get_50_observations(train_norm, train_target_norm, train_ids, 250)\n",
        "test_x, test_y = get_50_observations(test_norm, test_target_norm, test_ids, 250)"
      ],
      "execution_count": 0,
      "outputs": []
    },
    {
      "cell_type": "code",
      "metadata": {
        "id": "6UwvmosZmpdb",
        "colab_type": "code",
        "colab": {
          "base_uri": "https://localhost:8080/",
          "height": 1000
        },
        "outputId": "6cfe36ba-6dc5-40bb-bc55-465d679f310c"
      },
      "source": [
        "print(train_x.shape)\n",
        "print(train_x)\n",
        "print(train_y.shape)\n",
        "print(test_x.shape)\n",
        "print(test_y.shape)"
      ],
      "execution_count": 13,
      "outputs": [
        {
          "output_type": "stream",
          "text": [
            "(28595, 250, 40)\n",
            "[[[-0.33657786 -1.15042937  1.11815655 ... -1.44775414 -1.69519222\n",
            "   -3.67317796]\n",
            "  [-0.33657786 -1.15042937  1.0822134  ... -1.50668645 -1.68846583\n",
            "   -3.66659188]\n",
            "  [-0.33657786 -1.15042937  1.13545692 ... -1.51857591 -1.68795717\n",
            "   -3.67860985]\n",
            "  ...\n",
            "  [-0.2603929  -1.11776125  0.61358041 ... -1.31496322 -1.90935946\n",
            "   -3.70087385]\n",
            "  [-0.2603929  -1.11776125  0.56705034 ... -1.32017517 -1.95421851\n",
            "   -3.70740652]\n",
            "  [-0.2603929  -1.11776125  0.59422439 ... -1.32044315 -1.94404042\n",
            "   -3.71940446]]\n",
            "\n",
            " [[-0.2984854  -1.15042937  1.1143322  ... -1.51842356 -1.67838311\n",
            "   -3.64216018]\n",
            "  [-0.2984854  -1.15042937  1.16766024 ... -1.48373783 -1.67361426\n",
            "   -3.70899653]\n",
            "  [-0.2984854  -1.15042937  1.15678227 ... -1.49511755 -1.68852031\n",
            "   -3.69091129]\n",
            "  ...\n",
            "  [-0.2603929  -1.11776125  0.33783203 ... -1.30331039 -1.92422462\n",
            "   -3.74353313]\n",
            "  [-0.2603929  -1.11776125  0.33262408 ... -1.33822739 -1.92375684\n",
            "   -3.6948061 ]\n",
            "  [-0.2603929  -1.11776125  0.32297435 ... -1.33225894 -1.92894804\n",
            "   -3.69491363]]\n",
            "\n",
            " [[-0.2984854  -1.15042937  1.04138494 ... -1.53171051 -1.60732257\n",
            "   -3.68364   ]\n",
            "  [-0.2984854  -1.15042937  1.00615311 ... -1.51843417 -1.7028451\n",
            "   -3.69089675]\n",
            "  [-0.2984854  -1.15042937  0.96449739 ... -1.48949599 -1.6785239\n",
            "   -3.70294833]\n",
            "  ...\n",
            "  [-0.2603929  -1.11776125  0.66650349 ... -1.29115295 -1.93491149\n",
            "   -3.71952152]\n",
            "  [-0.2603929  -1.11776125  0.6292631  ... -1.28592527 -1.92924798\n",
            "   -3.78611875]\n",
            "  [-0.2603929  -1.11776125  0.57723117 ... -1.27390456 -1.93484783\n",
            "   -3.7681067 ]]\n",
            "\n",
            " ...\n",
            "\n",
            " [[ 1.98706365 -3.89454341  0.81518865 ...  1.02903235 -1.87403798\n",
            "   -0.39699107]\n",
            "  [ 1.98706365 -3.89454341  0.63135976 ...  0.98805237 -1.81950951\n",
            "   -0.3486118 ]\n",
            "  [ 1.98706365 -3.89454341  0.62672108 ...  0.99560225 -1.86080337\n",
            "   -0.36241654]\n",
            "  ...\n",
            "  [ 1.98706365 -3.89454341  0.13674504 ... -0.66669726 -0.17654637\n",
            "   -0.82801807]\n",
            "  [ 1.98706365 -3.89454341  0.23440962 ... -0.6926564  -0.2046254\n",
            "   -0.81418771]\n",
            "  [ 1.98706365 -3.89454341  0.25658566 ... -0.65181839 -0.22977501\n",
            "   -0.81402248]]\n",
            "\n",
            " [[ 1.98706365 -3.89454341  0.83810794 ...  0.02269595 -1.29701054\n",
            "    0.16114435]\n",
            "  [ 1.98706365 -3.89454341  0.68540096 ...  0.0291424  -1.30322814\n",
            "    0.12647094]\n",
            "  [ 1.98706365 -3.89454341  0.53003699 ...  0.04336457 -1.33305848\n",
            "    0.13349763]\n",
            "  ...\n",
            "  [ 2.01476765 -3.89454341  1.33739614 ... -0.71003085 -0.04601851\n",
            "   -0.821383  ]\n",
            "  [ 2.01822996 -3.89454341  1.34982538 ... -0.70334274 -0.05219229\n",
            "   -0.83523369]\n",
            "  [ 2.02169299 -3.89454341  1.35570383 ... -0.69032896 -0.02932605\n",
            "   -0.82133931]]\n",
            "\n",
            " [[ 1.98706365 -3.89454341  0.39554396 ...  0.75472409 -1.78556895\n",
            "   -0.1689768 ]\n",
            "  [ 1.98706365 -3.89454341  0.46630085 ...  0.70748156 -1.78947473\n",
            "   -0.20382628]\n",
            "  [ 1.98706365 -3.89454341  0.78498679 ...  0.665703   -1.75274086\n",
            "   -0.25953069]\n",
            "  ...\n",
            "  [ 2.02515626 -3.89454341  1.58941877 ... -0.69014519 -0.04693295\n",
            "   -0.84213716]\n",
            "  [ 2.02515626 -3.89454341  1.57707429 ... -0.67651677 -0.05923421\n",
            "   -0.84901732]\n",
            "  [ 2.02515626 -3.89454341  1.58354044 ... -0.67680556 -0.04752707\n",
            "   -0.84903288]]]\n",
            "(28595, 25)\n",
            "(9776, 250, 40)\n",
            "(9776, 25)\n"
          ],
          "name": "stdout"
        }
      ]
    },
    {
      "cell_type": "code",
      "metadata": {
        "id": "VKDjsRGlmpSA",
        "colab_type": "code",
        "colab": {}
      },
      "source": [
        "def create_model(steps, num_of_features):\n",
        "  model = Sequential()\n",
        "  model.add(LSTM(200, input_shape=(steps, num_of_features), return_sequences=True))\n",
        "  model.add(LSTM(200, return_sequences=False))\n",
        "  model.add(Dense(100))\n",
        "  model.add(Dense(50))\n",
        "  # model.add(BatchNormalization())\n",
        "  model.add(Dense(25,activation='softmax'))\n",
        "  model.summary()\n",
        "  return model\n"
      ],
      "execution_count": 0,
      "outputs": []
    },
    {
      "cell_type": "code",
      "metadata": {
        "id": "YbxvnRFvQkXL",
        "colab_type": "code",
        "colab": {
          "base_uri": "https://localhost:8080/",
          "height": 1000
        },
        "outputId": "2ed740d7-ec00-45fd-8587-a9d8fcdfeb6f"
      },
      "source": [
        "norm_data_model = create_model(250, train_x.shape[2])\n",
        "norm_data_model.compile(loss='categorical_crossentropy', optimizer='adam', metrics=['accuracy'])\n",
        "\n",
        "history_norm  = norm_data_model.fit(train_x, train_y, epochs=30, batch_size=1024, validation_split=0.2)\n",
        "save_model(norm_data_model, \"norm_data_model\")\n",
        "plot_hisotry (history_norm)\n",
        "confusion_matrix_predict(norm_data_model, train_x, train_y )"
      ],
      "execution_count": 17,
      "outputs": [
        {
          "output_type": "stream",
          "text": [
            "Model: \"sequential_1\"\n",
            "_________________________________________________________________\n",
            "Layer (type)                 Output Shape              Param #   \n",
            "=================================================================\n",
            "lstm_1 (LSTM)                (None, 250, 200)          192800    \n",
            "_________________________________________________________________\n",
            "lstm_2 (LSTM)                (None, 200)               320800    \n",
            "_________________________________________________________________\n",
            "dense_1 (Dense)              (None, 100)               20100     \n",
            "_________________________________________________________________\n",
            "dense_2 (Dense)              (None, 50)                5050      \n",
            "_________________________________________________________________\n",
            "dense_3 (Dense)              (None, 25)                1275      \n",
            "=================================================================\n",
            "Total params: 540,025\n",
            "Trainable params: 540,025\n",
            "Non-trainable params: 0\n",
            "_________________________________________________________________\n",
            "Train on 22876 samples, validate on 5719 samples\n",
            "Epoch 1/30\n",
            "22876/22876 [==============================] - 530s 23ms/step - loss: 1.2788 - accuracy: 0.6712 - val_loss: 1.2921 - val_accuracy: 0.7096\n",
            "Epoch 2/30\n",
            "22876/22876 [==============================] - 522s 23ms/step - loss: 0.2506 - accuracy: 0.9267 - val_loss: 1.7311 - val_accuracy: 0.7545\n",
            "Epoch 3/30\n",
            "22876/22876 [==============================] - 521s 23ms/step - loss: 0.1560 - accuracy: 0.9537 - val_loss: 1.4766 - val_accuracy: 0.7823\n",
            "Epoch 4/30\n",
            "22876/22876 [==============================] - 517s 23ms/step - loss: 0.1391 - accuracy: 0.9590 - val_loss: 1.1787 - val_accuracy: 0.7785\n",
            "Epoch 5/30\n",
            "22876/22876 [==============================] - 523s 23ms/step - loss: 0.0899 - accuracy: 0.9733 - val_loss: 1.6199 - val_accuracy: 0.7071\n",
            "Epoch 6/30\n",
            "22876/22876 [==============================] - 524s 23ms/step - loss: 0.0627 - accuracy: 0.9819 - val_loss: 1.4425 - val_accuracy: 0.7788\n",
            "Epoch 7/30\n",
            "22876/22876 [==============================] - 524s 23ms/step - loss: 0.0664 - accuracy: 0.9830 - val_loss: 2.4346 - val_accuracy: 0.6599\n",
            "Epoch 8/30\n",
            "22876/22876 [==============================] - 525s 23ms/step - loss: 0.1799 - accuracy: 0.9527 - val_loss: 1.2111 - val_accuracy: 0.7951\n",
            "Epoch 9/30\n",
            "22876/22876 [==============================] - 529s 23ms/step - loss: 0.0790 - accuracy: 0.9766 - val_loss: 1.4985 - val_accuracy: 0.7417\n",
            "Epoch 10/30\n",
            "22876/22876 [==============================] - 532s 23ms/step - loss: 0.0637 - accuracy: 0.9809 - val_loss: 1.4861 - val_accuracy: 0.7589\n",
            "Epoch 11/30\n",
            "22876/22876 [==============================] - 532s 23ms/step - loss: 0.0437 - accuracy: 0.9867 - val_loss: 1.4672 - val_accuracy: 0.7671\n",
            "Epoch 12/30\n",
            "22876/22876 [==============================] - 532s 23ms/step - loss: 0.0862 - accuracy: 0.9737 - val_loss: 1.4311 - val_accuracy: 0.7099\n",
            "Epoch 13/30\n",
            "22876/22876 [==============================] - 530s 23ms/step - loss: 0.0476 - accuracy: 0.9849 - val_loss: 1.7924 - val_accuracy: 0.6985\n",
            "Epoch 14/30\n",
            "22876/22876 [==============================] - 531s 23ms/step - loss: 0.0346 - accuracy: 0.9894 - val_loss: 1.7409 - val_accuracy: 0.7169\n",
            "Epoch 15/30\n",
            "22876/22876 [==============================] - 534s 23ms/step - loss: 0.0775 - accuracy: 0.9788 - val_loss: 1.0499 - val_accuracy: 0.7860\n",
            "Epoch 16/30\n",
            "22876/22876 [==============================] - 537s 23ms/step - loss: 0.1905 - accuracy: 0.9657 - val_loss: 1.7895 - val_accuracy: 0.6447\n",
            "Epoch 17/30\n",
            "22876/22876 [==============================] - 540s 24ms/step - loss: 0.1774 - accuracy: 0.9517 - val_loss: 1.2885 - val_accuracy: 0.7468\n",
            "Epoch 18/30\n",
            "22876/22876 [==============================] - 537s 23ms/step - loss: 0.0732 - accuracy: 0.9788 - val_loss: 1.3487 - val_accuracy: 0.7328\n",
            "Epoch 19/30\n",
            "22876/22876 [==============================] - 534s 23ms/step - loss: 0.0977 - accuracy: 0.9732 - val_loss: 1.5052 - val_accuracy: 0.6956\n",
            "Epoch 20/30\n",
            "22876/22876 [==============================] - 538s 24ms/step - loss: 0.0722 - accuracy: 0.9781 - val_loss: 1.7398 - val_accuracy: 0.6636\n",
            "Epoch 21/30\n",
            "22876/22876 [==============================] - 538s 24ms/step - loss: 0.0419 - accuracy: 0.9876 - val_loss: 1.3648 - val_accuracy: 0.7613\n",
            "Epoch 22/30\n",
            "22876/22876 [==============================] - 530s 23ms/step - loss: 0.0427 - accuracy: 0.9873 - val_loss: 1.4767 - val_accuracy: 0.7601\n",
            "Epoch 23/30\n",
            "22876/22876 [==============================] - 534s 23ms/step - loss: 0.0286 - accuracy: 0.9908 - val_loss: 1.5043 - val_accuracy: 0.7496\n",
            "Epoch 24/30\n",
            "22876/22876 [==============================] - 533s 23ms/step - loss: 0.0386 - accuracy: 0.9881 - val_loss: 1.7802 - val_accuracy: 0.7145\n",
            "Epoch 25/30\n",
            "22876/22876 [==============================] - 539s 24ms/step - loss: 0.0292 - accuracy: 0.9916 - val_loss: 1.9479 - val_accuracy: 0.6809\n",
            "Epoch 26/30\n",
            "22876/22876 [==============================] - 545s 24ms/step - loss: 0.0178 - accuracy: 0.9938 - val_loss: 1.9406 - val_accuracy: 0.6819\n",
            "Epoch 27/30\n",
            "22876/22876 [==============================] - 548s 24ms/step - loss: 0.0144 - accuracy: 0.9951 - val_loss: 2.0625 - val_accuracy: 0.6672\n",
            "Epoch 28/30\n",
            "22876/22876 [==============================] - 545s 24ms/step - loss: 0.0539 - accuracy: 0.9852 - val_loss: 1.3884 - val_accuracy: 0.7482\n",
            "Epoch 29/30\n",
            "22876/22876 [==============================] - 537s 23ms/step - loss: 0.0630 - accuracy: 0.9829 - val_loss: 1.9661 - val_accuracy: 0.6707\n",
            "Epoch 30/30\n",
            "22876/22876 [==============================] - 535s 23ms/step - loss: 0.0393 - accuracy: 0.9885 - val_loss: 1.5852 - val_accuracy: 0.7391\n"
          ],
          "name": "stdout"
        },
        {
          "output_type": "display_data",
          "data": {
            "image/png": "[encoded data removed]",
            "text/plain": [
              "<Figure size 432x288 with 1 Axes>"
            ]
          },
          "metadata": {
            "tags": [],
            "needs_background": "light"
          }
        },
        {
          "output_type": "display_data",
          "data": {
            "image/png": "[encoded data removed]",
            "text/plain": [
              "<Figure size 432x288 with 1 Axes>"
            ]
          },
          "metadata": {
            "tags": [],
            "needs_background": "light"
          }
        },
        {
          "output_type": "stream",
          "text": [
            "[[2794    6    0    0    0    0    0    2    0   12   12    0]\n",
            " [   0 2941   17    0    0    0    0    0    0    6    8    0]\n",
            " [   2    5 2413    0    0    0    0    0    0    3  331    0]\n",
            " [   7    0    0 3294    0    0    0   34  100    7    1    0]\n",
            " [   2    4    2   29 1174    8  232   19   26    1    0   44]\n",
            " [   0    1    0    0    0 2289    2    1    2    0    1   10]\n",
            " [   0    3    0  177    0    0 2401    0    1    5    0    0]\n",
            " [   0    0    0    0    0    0    0 1662   27   15    1    0]\n",
            " [   0    0    7    1    0    0    0   35 1556   14    0    1]\n",
            " [   8   16    6    0    0    0    0   10   63 2443   16    0]\n",
            " [   0    2   46    0    0    0    0    0    1    1 3446    0]\n",
            " [   0    0    0    1   10    2  111  150    0    0    0  515]]\n",
            "model accuracy on test set is: 94.17030949466691%\n",
            "\n",
            "x_data\n",
            "[[-0.71696287  0.02110745 -0.7756384  ... -3.13429284  0.31349728\n",
            "   0.60249364]\n",
            " [-0.71696287  0.02110745 -0.76400602 ... -3.14134455  0.37898749\n",
            "   0.59118885]\n",
            " [-0.71696287  0.02110745 -0.76404828 ... -3.14616299  0.33846542\n",
            "   0.63921732]\n",
            " ...\n",
            " [-0.6788578   0.02110745  1.06231308 ... -2.89861536  1.6336683\n",
            "  -1.00755632]\n",
            " [-0.6788578   0.02110745  1.06915569 ... -2.87410283  1.57773888\n",
            "  -1.00232816]\n",
            " [-0.6788578   0.02110745  1.09905326 ... -2.86231685  1.56758392\n",
            "  -1.02070725]]\n",
            "y_data\n",
            "2\n",
            "predict data\n",
            "3\n",
            "x_data\n",
            "[[-0.71696287  0.02110745  0.14646327 ... -2.96088743  1.51451135\n",
            "  -0.94181794]\n",
            " [-0.71696287  0.02110745  0.13525072 ... -2.93142462  1.49401975\n",
            "  -0.97862339]\n",
            " [-0.71696287  0.02110745  0.1337841  ... -2.94797134  1.45377696\n",
            "  -0.92444181]\n",
            " ...\n",
            " [-0.6234324   0.02110745  0.9825089  ... -2.77029872  1.68052793\n",
            "  -1.06251299]\n",
            " [-0.61996818  0.02110745  1.00552166 ... -2.78864789  1.72610271\n",
            "  -1.05579185]\n",
            " [-0.61650419  0.02110745  0.97650141 ... -2.78895235  1.75101316\n",
            "  -1.04338825]]\n",
            "y_data\n",
            "2\n",
            "predict data\n",
            "3\n",
            "x_data\n",
            "[[-0.71696287  0.02110745  0.76747841 ... -2.92556596  1.45472157\n",
            "  -1.05786824]\n",
            " [-0.71696287  0.02110745  0.79586822 ... -2.93146157  1.46469939\n",
            "  -1.03953588]\n",
            " [-0.71696287  0.02110745  0.84323764 ... -2.91432667  1.48450971\n",
            "  -1.06366897]\n",
            " ...\n",
            " [-0.60264772  0.02110745  1.15569127 ... -2.79453301  1.70668292\n",
            "  -1.09231579]\n",
            " [-0.60264772  0.02110745  1.18311787 ... -2.83563375  1.70284986\n",
            "  -1.085989  ]\n",
            " [-0.60264772  0.02110745  1.1649797  ... -2.81871963  1.74256122\n",
            "  -1.09777689]]\n",
            "y_data\n",
            "2\n",
            "predict data\n",
            "3\n",
            "x_data\n",
            "[[-0.6788578   0.02110745  1.11955273 ... -2.8329649   1.55703831\n",
            "  -1.05133986]\n",
            " [-0.6788578   0.02110745  1.1385324  ... -2.90370703  1.61311758\n",
            "  -0.95323539]\n",
            " [-0.6788578   0.02110745  1.15108776 ... -2.84449315  1.57661724\n",
            "  -0.98439366]\n",
            " ...\n",
            " [-0.5264377   0.02110745  1.1322993  ... -2.81298161  1.7328105\n",
            "  -1.13427782]\n",
            " [-0.5264377   0.02110745  1.17387176 ... -2.77724028  1.73607135\n",
            "  -1.07999456]\n",
            " [-0.5264377   0.02110745  1.14477015 ... -2.75352621  1.70086956\n",
            "  -1.12904036]]\n",
            "y_data\n",
            "2\n",
            "predict data\n",
            "3\n",
            "x_data\n",
            "[[ 0.9596588   0.51149279 -0.56337345 ... -0.63024604  0.23571852\n",
            "  -2.16155624]\n",
            " [ 0.9596588   0.51149279 -0.5059222  ... -0.72244275  0.10833818\n",
            "  -2.16837335]\n",
            " [ 0.9596588   0.51149279 -0.54345524 ... -0.65037102  0.0307784\n",
            "  -2.15164137]\n",
            " ...\n",
            " [ 0.99776387  0.54418516 -0.82502788 ... -0.34616318  0.33240747\n",
            "   2.35634518]\n",
            " [ 0.99776387  0.54418516 -0.76114947 ... -0.41126737  0.35928804\n",
            "   2.36926484]\n",
            " [ 0.99776387  0.54418516 -0.67295146 ... -0.43121371  0.49037111\n",
            "   2.35274839]]\n",
            "y_data\n",
            "16\n",
            "predict data\n",
            "13\n"
          ],
          "name": "stdout"
        },
        {
          "output_type": "display_data",
          "data": {
            "image/png": "[encoded data removed]",
            "text/plain": [
              "<Figure size 432x288 with 2 Axes>"
            ]
          },
          "metadata": {
            "tags": [],
            "needs_background": "light"
          }
        }
      ]
    }
  ]
}